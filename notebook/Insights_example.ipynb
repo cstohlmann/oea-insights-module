{
  "cells": [
    {
      "cell_type": "markdown",
      "source": [
        "# Test for processing Microsoft Education Insights data\r\n",
        "\r\n",
        "This notebook demonstrates possible data processing and exploration of the Microsoft Education Insights data, using the OEA_py class notebook. \r\n",
        "\r\n",
        "Most of the data processing done in this notebook are also achieved by executing the Insights module main pipeline. This notebook is designed as an alternate approach to the same processing, as well as module data exploration and visualization. \r\n",
        "\r\n",
        "The steps are clearly outlined below:\r\n",
        "1. Set the workspace,\r\n",
        "2. Land Insights Module (K-12 or Higher Ed.) Test Data,\r\n",
        "3. Ingest the Insights Module Test Data,\r\n",
        "4. Insights Schema Correction,\r\n",
        "5. Refine the Insights Module Test Data, \r\n",
        "6. Demonstrate Lake Database Queries/Final Remarks, and\r\n",
        "7. Appendix"
      ],
      "metadata": {
        "nteract": {
          "transient": {
            "deleting": false
          }
        }
      }
    },
    {
      "cell_type": "code",
      "source": [
        "%run OEA_py"
      ],
      "outputs": [],
      "execution_count": 1,
      "metadata": {
        "jupyter": {
          "source_hidden": false,
          "outputs_hidden": false
        },
        "nteract": {
          "transient": {
            "deleting": false
          }
        }
      }
    },
    {
      "cell_type": "code",
      "source": [
        "# 1) set the workspace (this determines where in the data lake you'll be writing to and reading from).\r\n",
        "# You can work in 'dev', 'prod', or a sandbox with any name you choose.\r\n",
        "# For example, Sam the developer can create a 'sam' workspace and expect to find his datasets in the data lake under oea/sandboxes/sam\r\n",
        "oea.set_workspace('sam')"
      ],
      "outputs": [],
      "execution_count": 2,
      "metadata": {
        "jupyter": {
          "source_hidden": false,
          "outputs_hidden": false
        },
        "nteract": {
          "transient": {
            "deleting": false
          }
        }
      }
    },
    {
      "cell_type": "markdown",
      "source": [
        "## 2.) Land Insights Module (K-12 or Higher Ed.) Test Data\r\n",
        "Below are 2 code blocks - the first lands test data formatted as K-12 data in your data lake, whereas the second lands Higher Ed. test data in your lake. Choose and run *one* of these blocks.\r\n",
        "\r\n",
        "**To-Do's:**\r\n",
        " - Confirm that files are being landed \"correctly\" in their proper folder partitions \r\n",
        "    * Took some liberties with test data directory, due to framework updates - although, the test data directory will look significantly different from the production data directory."
      ],
      "metadata": {
        "nteract": {
          "transient": {
            "deleting": false
          }
        }
      }
    },
    {
      "cell_type": "code",
      "source": [
        "# 2.1) Land batch data files into stage1 of the data lake.\r\n",
        "# In this example we pull Insights K-12 test csv data files from github and land it in oea/sandboxes/sam/stage1/Transactional/M365/v1.14\r\n",
        "# NOTE: You can choose to ingest Insights Higher Ed. test data instead, by running the code block below rather than this one.\r\n",
        "data = requests.get('https://raw.githubusercontent.com/microsoft/OpenEduAnalytics/main/modules/module_catalog/Microsoft_Education_Insights/test_data/k12_test_data/activity/2022-01-28/ApplicationUsage.csv').text\r\n",
        "oea.land(data, 'M365/v1.14/activity', 'activity_k12_test_data.csv', oea.ADDITIVE_BATCH_DATA)\r\n",
        "\r\n",
        "data = requests.get('https://raw.githubusercontent.com/microsoft/OpenEduAnalytics/main/modules/module_catalog/Microsoft_Education_Insights/test_data/k12_test_data/roster/2022-01-28T06-16-22/AadGroup/aadgroup.csv').text\r\n",
        "oea.land(data, 'M365/v1.14/AadGroup', 'aadgroup_k12_test_data.csv', oea.SNAPSHOT_BATCH_DATA)\r\n",
        "data = requests.get('https://raw.githubusercontent.com/microsoft/OpenEduAnalytics/main/modules/module_catalog/Microsoft_Education_Insights/test_data/k12_test_data/roster/2022-01-28T06-16-22/AadGroupMembership/aadgroupmembership.csv').text\r\n",
        "oea.land(data, 'M365/v1.14/AadGroupMembership', 'aadgroupmembership_k12_test_data.csv', oea.SNAPSHOT_BATCH_DATA)\r\n",
        "data = requests.get('https://raw.githubusercontent.com/microsoft/OpenEduAnalytics/main/modules/module_catalog/Microsoft_Education_Insights/test_data/k12_test_data/roster/2022-01-28T06-16-22/AadUser/aaduser.csv').text\r\n",
        "oea.land(data, 'M365/v1.14/AadUser', 'aaduser_k12_test_data.csv', oea.SNAPSHOT_BATCH_DATA)\r\n",
        "data = requests.get('https://raw.githubusercontent.com/microsoft/OpenEduAnalytics/main/modules/module_catalog/Microsoft_Education_Insights/test_data/k12_test_data/roster/2022-01-28T06-16-22/AadUserPersonMapping/aaduserpersonmapping.csv').text\r\n",
        "oea.land(data, 'M365/v1.14/AadUserPersonMapping', 'aaduserpersonmapping_k12_test_data.csv', oea.SNAPSHOT_BATCH_DATA)\r\n",
        "data = requests.get('https://raw.githubusercontent.com/microsoft/OpenEduAnalytics/main/modules/module_catalog/Microsoft_Education_Insights/test_data/k12_test_data/roster/2022-01-28T06-16-22/Course/course.csv').text\r\n",
        "oea.land(data, 'M365/v1.14/Course', 'course_k12_test_data.csv', oea.SNAPSHOT_BATCH_DATA)\r\n",
        "data = requests.get('https://raw.githubusercontent.com/microsoft/OpenEduAnalytics/main/modules/module_catalog/Microsoft_Education_Insights/test_data/k12_test_data/roster/2022-01-28T06-16-22/CourseGradeLevel/coursegradelevel.csv').text\r\n",
        "oea.land(data, 'M365/v1.14/CourseGradeLevel', 'coursegradelevel_k12_test_data.csv', oea.SNAPSHOT_BATCH_DATA)\r\n",
        "data = requests.get('https://raw.githubusercontent.com/microsoft/OpenEduAnalytics/main/modules/module_catalog/Microsoft_Education_Insights/test_data/k12_test_data/roster/2022-01-28T06-16-22/CourseSubject/coursesubject.csv').text\r\n",
        "oea.land(data, 'M365/v1.14/CourseSubject', 'coursesubject_k12_test_data.csv', oea.SNAPSHOT_BATCH_DATA)\r\n",
        "data = requests.get('https://raw.githubusercontent.com/microsoft/OpenEduAnalytics/main/modules/module_catalog/Microsoft_Education_Insights/test_data/k12_test_data/roster/2022-01-28T06-16-22/Enrollment/enrollment.csv').text\r\n",
        "oea.land(data, 'M365/v1.14/Enrollment', 'enrollment_k12_test_data.csv', oea.SNAPSHOT_BATCH_DATA)\r\n",
        "data = requests.get('https://raw.githubusercontent.com/microsoft/OpenEduAnalytics/main/modules/module_catalog/Microsoft_Education_Insights/test_data/k12_test_data/roster/2022-01-28T06-16-22/Organization/organization.csv').text\r\n",
        "oea.land(data, 'M365/v1.14/Organization', 'organization_k12_test_data.csv', oea.SNAPSHOT_BATCH_DATA)\r\n",
        "data = requests.get('https://raw.githubusercontent.com/microsoft/OpenEduAnalytics/main/modules/module_catalog/Microsoft_Education_Insights/test_data/k12_test_data/roster/2022-01-28T06-16-22/Person/person.csv').text\r\n",
        "oea.land(data, 'M365/v1.14/Person', 'person_k12_test_data.csv', oea.SNAPSHOT_BATCH_DATA)\r\n",
        "data = requests.get('https://raw.githubusercontent.com/microsoft/OpenEduAnalytics/main/modules/module_catalog/Microsoft_Education_Insights/test_data/k12_test_data/roster/2022-01-28T06-16-22/PersonDemographic/persondemographic.csv').text\r\n",
        "oea.land(data, 'M365/v1.14/PersonDemographic', 'persondemographic_k12_test_data.csv', oea.SNAPSHOT_BATCH_DATA)\r\n",
        "data = requests.get('https://raw.githubusercontent.com/microsoft/OpenEduAnalytics/main/modules/module_catalog/Microsoft_Education_Insights/test_data/k12_test_data/roster/2022-01-28T06-16-22/PersonDemographicEthnicity/persondemographicethnicity.csv').text\r\n",
        "oea.land(data, 'M365/v1.14/PersonDemographicEthnicity', 'persondemographicethnicity_k12_test_data.csv', oea.SNAPSHOT_BATCH_DATA)\r\n",
        "data = requests.get('https://raw.githubusercontent.com/microsoft/OpenEduAnalytics/main/modules/module_catalog/Microsoft_Education_Insights/test_data/k12_test_data/roster/2022-01-28T06-16-22/PersonDemographicPersonFlag/persondemographicpersonflag.csv').text\r\n",
        "oea.land(data, 'M365/v1.14/PersonDemographicPersonFlag', 'persondemographicpersonflag_k12_test_data.csv', oea.SNAPSHOT_BATCH_DATA)\r\n",
        "data = requests.get('https://raw.githubusercontent.com/microsoft/OpenEduAnalytics/main/modules/module_catalog/Microsoft_Education_Insights/test_data/k12_test_data/roster/2022-01-28T06-16-22/PersonDemographicRace/persondemographicrace.csv').text\r\n",
        "oea.land(data, 'M365/v1.14/PersonDemographicRace', 'persondemographicrace_k12_test_data.csv', oea.SNAPSHOT_BATCH_DATA)\r\n",
        "data = requests.get('https://raw.githubusercontent.com/microsoft/OpenEduAnalytics/main/modules/module_catalog/Microsoft_Education_Insights/test_data/k12_test_data/roster/2022-01-28T06-16-22/PersonEmailAddress/personemailaddress.csv').text\r\n",
        "oea.land(data, 'M365/v1.14/PersonEmailAddress', 'personemailaddress_k12_test_data.csv', oea.SNAPSHOT_BATCH_DATA)\r\n",
        "data = requests.get('https://raw.githubusercontent.com/microsoft/OpenEduAnalytics/main/modules/module_catalog/Microsoft_Education_Insights/test_data/k12_test_data/roster/2022-01-28T06-16-22/PersonIdentifier/personidentifier.csv').text\r\n",
        "oea.land(data, 'M365/v1.14/PersonIdentifier', 'personidentifier_k12_test_data.csv', oea.SNAPSHOT_BATCH_DATA)\r\n",
        "data = requests.get('https://raw.githubusercontent.com/microsoft/OpenEduAnalytics/main/modules/module_catalog/Microsoft_Education_Insights/test_data/k12_test_data/roster/2022-01-28T06-16-22/PersonOrganizationRole/personorganizationrole.csv').text\r\n",
        "oea.land(data, 'M365/v1.14/PersonOrganizationRole', 'personorganizationrole_k12_test_data.csv', oea.SNAPSHOT_BATCH_DATA)\r\n",
        "data = requests.get('https://raw.githubusercontent.com/microsoft/OpenEduAnalytics/main/modules/module_catalog/Microsoft_Education_Insights/test_data/k12_test_data/roster/2022-01-28T06-16-22/PersonPhoneNumber/personphonenumber.csv').text\r\n",
        "oea.land(data, 'M365/v1.14/PersonPhoneNumber', 'personphonenumber_k12_test_data.csv', oea.SNAPSHOT_BATCH_DATA)\r\n",
        "data = requests.get('https://raw.githubusercontent.com/microsoft/OpenEduAnalytics/main/modules/module_catalog/Microsoft_Education_Insights/test_data/k12_test_data/roster/2022-01-28T06-16-22/PersonRelationship/personrelationship.csv').text\r\n",
        "oea.land(data, 'M365/v1.14/PersonRelationship', 'personrelationship_k12_test_data.csv', oea.SNAPSHOT_BATCH_DATA)\r\n",
        "data = requests.get('https://raw.githubusercontent.com/microsoft/OpenEduAnalytics/main/modules/module_catalog/Microsoft_Education_Insights/test_data/k12_test_data/roster/2022-01-28T06-16-22/RefDefinition/refdefinition.csv').text\r\n",
        "oea.land(data, 'M365/v1.14/RefDefinition', 'refdefinition_k12_test_data.csv', oea.SNAPSHOT_BATCH_DATA)\r\n",
        "data = requests.get('https://raw.githubusercontent.com/microsoft/OpenEduAnalytics/main/modules/module_catalog/Microsoft_Education_Insights/test_data/k12_test_data/roster/2022-01-28T06-16-22/RefTranslation/reftranslation.csv').text\r\n",
        "oea.land(data, 'M365/v1.14/RefTranslation', 'reftranslation_k12_test_data.csv', oea.SNAPSHOT_BATCH_DATA)\r\n",
        "data = requests.get('https://raw.githubusercontent.com/microsoft/OpenEduAnalytics/main/modules/module_catalog/Microsoft_Education_Insights/test_data/k12_test_data/roster/2022-01-28T06-16-22/Section/section.csv').text\r\n",
        "oea.land(data, 'M365/v1.14/Section', 'section_k12_test_data.csv', oea.SNAPSHOT_BATCH_DATA)\r\n",
        "data = requests.get('https://raw.githubusercontent.com/microsoft/OpenEduAnalytics/main/modules/module_catalog/Microsoft_Education_Insights/test_data/k12_test_data/roster/2022-01-28T06-16-22/SectionGradeLevel/sectiongradelevel.csv').text\r\n",
        "oea.land(data, 'M365/v1.14/SectionGradeLevel', 'sectiongradelevel_k12_test_data.csv', oea.SNAPSHOT_BATCH_DATA)\r\n",
        "data = requests.get('https://raw.githubusercontent.com/microsoft/OpenEduAnalytics/main/modules/module_catalog/Microsoft_Education_Insights/test_data/k12_test_data/roster/2022-01-28T06-16-22/SectionSession/sectionsession.csv').text\r\n",
        "oea.land(data, 'M365/v1.14/SectionSession', 'sectionsession_k12_test_data.csv', oea.SNAPSHOT_BATCH_DATA)\r\n",
        "data = requests.get('https://raw.githubusercontent.com/microsoft/OpenEduAnalytics/main/modules/module_catalog/Microsoft_Education_Insights/test_data/k12_test_data/roster/2022-01-28T06-16-22/SectionSubject/sectionsubject.csv').text\r\n",
        "oea.land(data, 'M365/v1.14/SectionSubject', 'sectionsubject_k12_test_data.csv', oea.SNAPSHOT_BATCH_DATA)\r\n",
        "data = requests.get('https://raw.githubusercontent.com/microsoft/OpenEduAnalytics/main/modules/module_catalog/Microsoft_Education_Insights/test_data/k12_test_data/roster/2022-01-28T06-16-22/Session/session.csv').text\r\n",
        "oea.land(data, 'M365/v1.14/Session', 'session_k12_test_data.csv', oea.SNAPSHOT_BATCH_DATA)\r\n",
        "data = requests.get('https://raw.githubusercontent.com/microsoft/OpenEduAnalytics/main/modules/module_catalog/Microsoft_Education_Insights/test_data/k12_test_data/roster/2022-01-28T06-16-22/SourceSystem/sourcesystem.csv').text\r\n",
        "oea.land(data, 'M365/v1.14/SourceSystem', 'sourcesystem_k12_test_data.csv', oea.SNAPSHOT_BATCH_DATA)"
      ],
      "outputs": [],
      "execution_count": null,
      "metadata": {
        "jupyter": {
          "source_hidden": false,
          "outputs_hidden": false
        },
        "nteract": {
          "transient": {
            "deleting": false
          }
        }
      }
    },
    {
      "cell_type": "code",
      "source": [
        "# 2.2) Land batch data files into stage1 of the data lake.\r\n",
        "# In this example we pull Insights Higher Ed. test csv data files from github and land it in oea/sandboxes/sam/stage1/Transactional/M365/v1.14\r\n",
        "# NOTE: You can choose to ingest Insights K-12 test data instead, by running the code block above rather than this one.\r\n",
        "data = requests.get('https://raw.githubusercontent.com/microsoft/OpenEduAnalytics/main/modules/module_catalog/Microsoft_Education_Insights/test_data/hed_test_data/activity/2022-01-28/ApplicationUsage.csv').text\r\n",
        "oea.land(data, 'M365/v1.14/activity', 'activity_hed_test_data.csv', oea.ADDITIVE_BATCH_DATA)\r\n",
        "\r\n",
        "data = requests.get('https://raw.githubusercontent.com/microsoft/OpenEduAnalytics/main/modules/module_catalog/Microsoft_Education_Insights/test_data/hed_test_data/roster/2022-01-28T06-16-22/AadGroup/aadgroup.csv').text\r\n",
        "oea.land(data, 'M365/v1.14/AadGroup', 'aadgroup_hed_test_data.csv', oea.SNAPSHOT_BATCH_DATA)\r\n",
        "data = requests.get('https://raw.githubusercontent.com/microsoft/OpenEduAnalytics/main/modules/module_catalog/Microsoft_Education_Insights/test_data/hed_test_data/roster/2022-01-28T06-16-22/AadGroupMembership/aadgroupmembership.csv').text\r\n",
        "oea.land(data, 'M365/v1.14/AadGroupMembership', 'aadgroupmembership_hed_test_data.csv', oea.SNAPSHOT_BATCH_DATA)\r\n",
        "data = requests.get('https://raw.githubusercontent.com/microsoft/OpenEduAnalytics/main/modules/module_catalog/Microsoft_Education_Insights/test_data/hed_test_data/roster/2022-01-28T06-16-22/AadUser/aaduser.csv').text\r\n",
        "oea.land(data, 'M365/v1.14/AadUser', 'aaduser_hed_test_data.csv', oea.SNAPSHOT_BATCH_DATA)\r\n",
        "data = requests.get('https://raw.githubusercontent.com/microsoft/OpenEduAnalytics/main/modules/module_catalog/Microsoft_Education_Insights/test_data/hed_test_data/roster/2022-01-28T06-16-22/AadUserPersonMapping/aaduserpersonmapping.csv').text\r\n",
        "oea.land(data, 'M365/v1.14/AadUserPersonMapping', 'aaduserpersonmapping_hed_test_data.csv', oea.SNAPSHOT_BATCH_DATA)\r\n",
        "data = requests.get('https://raw.githubusercontent.com/microsoft/OpenEduAnalytics/main/modules/module_catalog/Microsoft_Education_Insights/test_data/hed_test_data/roster/2022-01-28T06-16-22/Course/course.csv').text\r\n",
        "oea.land(data, 'M365/v1.14/Course', 'course_hed_test_data.csv', oea.SNAPSHOT_BATCH_DATA)\r\n",
        "data = requests.get('https://raw.githubusercontent.com/microsoft/OpenEduAnalytics/main/modules/module_catalog/Microsoft_Education_Insights/test_data/hed_test_data/roster/2022-01-28T06-16-22/CourseGradeLevel/coursegradelevel.csv').text\r\n",
        "oea.land(data, 'M365/v1.14/CourseGradeLevel', 'coursegradelevel_hed_test_data.csv', oea.SNAPSHOT_BATCH_DATA)\r\n",
        "data = requests.get('https://raw.githubusercontent.com/microsoft/OpenEduAnalytics/main/modules/module_catalog/Microsoft_Education_Insights/test_data/hed_test_data/roster/2022-01-28T06-16-22/CourseSubject/coursesubject.csv').text\r\n",
        "oea.land(data, 'M365/v1.14/CourseSubject', 'coursesubject_hed_test_data.csv', oea.SNAPSHOT_BATCH_DATA)\r\n",
        "data = requests.get('https://raw.githubusercontent.com/microsoft/OpenEduAnalytics/main/modules/module_catalog/Microsoft_Education_Insights/test_data/hed_test_data/roster/2022-01-28T06-16-22/Enrollment/enrollment.csv').text\r\n",
        "oea.land(data, 'M365/v1.14/Enrollment', 'enrollment_hed_test_data.csv', oea.SNAPSHOT_BATCH_DATA)\r\n",
        "data = requests.get('https://raw.githubusercontent.com/microsoft/OpenEduAnalytics/main/modules/module_catalog/Microsoft_Education_Insights/test_data/hed_test_data/roster/2022-01-28T06-16-22/Organization/organization.csv').text\r\n",
        "oea.land(data, 'M365/v1.14/Organization', 'organization_hed_test_data.csv', oea.SNAPSHOT_BATCH_DATA)\r\n",
        "data = requests.get('https://raw.githubusercontent.com/microsoft/OpenEduAnalytics/main/modules/module_catalog/Microsoft_Education_Insights/test_data/hed_test_data/roster/2022-01-28T06-16-22/Person/person.csv').text\r\n",
        "oea.land(data, 'M365/v1.14/Person', 'person_hed_test_data.csv', oea.SNAPSHOT_BATCH_DATA)\r\n",
        "data = requests.get('https://raw.githubusercontent.com/microsoft/OpenEduAnalytics/main/modules/module_catalog/Microsoft_Education_Insights/test_data/hed_test_data/roster/2022-01-28T06-16-22/PersonDemographic/persondemographic.csv').text\r\n",
        "oea.land(data, 'M365/v1.14/PersonDemographic', 'persondemographic_hed_test_data.csv', oea.SNAPSHOT_BATCH_DATA)\r\n",
        "data = requests.get('https://raw.githubusercontent.com/microsoft/OpenEduAnalytics/main/modules/module_catalog/Microsoft_Education_Insights/test_data/hed_test_data/roster/2022-01-28T06-16-22/PersonDemographicEthnicity/persondemographicethnicity.csv').text\r\n",
        "oea.land(data, 'M365/v1.14/PersonDemographicEthnicity', 'persondemographicethnicity_hed_test_data.csv', oea.SNAPSHOT_BATCH_DATA)\r\n",
        "data = requests.get('https://raw.githubusercontent.com/microsoft/OpenEduAnalytics/main/modules/module_catalog/Microsoft_Education_Insights/test_data/hed_test_data/roster/2022-01-28T06-16-22/PersonDemographicPersonFlag/persondemographicpersonflag.csv').text\r\n",
        "oea.land(data, 'M365/v1.14/PersonDemographicPersonFlag', 'persondemographicpersonflag_hed_test_data.csv', oea.SNAPSHOT_BATCH_DATA)\r\n",
        "data = requests.get('https://raw.githubusercontent.com/microsoft/OpenEduAnalytics/main/modules/module_catalog/Microsoft_Education_Insights/test_data/hed_test_data/roster/2022-01-28T06-16-22/PersonDemographicRace/persondemographicrace.csv').text\r\n",
        "oea.land(data, 'M365/v1.14/PersonDemographicRace', 'persondemographicrace_hed_test_data.csv', oea.SNAPSHOT_BATCH_DATA)\r\n",
        "data = requests.get('https://raw.githubusercontent.com/microsoft/OpenEduAnalytics/main/modules/module_catalog/Microsoft_Education_Insights/test_data/hed_test_data/roster/2022-01-28T06-16-22/PersonEmailAddress/personemailaddress.csv').text\r\n",
        "oea.land(data, 'M365/v1.14/PersonEmailAddress', 'personemailaddress_hed_test_data.csv', oea.SNAPSHOT_BATCH_DATA)\r\n",
        "data = requests.get('https://raw.githubusercontent.com/microsoft/OpenEduAnalytics/main/modules/module_catalog/Microsoft_Education_Insights/test_data/hed_test_data/roster/2022-01-28T06-16-22/PersonIdentifier/personidentifier.csv').text\r\n",
        "oea.land(data, 'M365/v1.14/PersonIdentifier', 'personidentifier_hed_test_data.csv', oea.SNAPSHOT_BATCH_DATA)\r\n",
        "data = requests.get('https://raw.githubusercontent.com/microsoft/OpenEduAnalytics/main/modules/module_catalog/Microsoft_Education_Insights/test_data/hed_test_data/roster/2022-01-28T06-16-22/PersonOrganizationRole/personorganizationrole.csv').text\r\n",
        "oea.land(data, 'M365/v1.14/PersonOrganizationRole', 'personorganizationrole_hed_test_data.csv', oea.SNAPSHOT_BATCH_DATA)\r\n",
        "data = requests.get('https://raw.githubusercontent.com/microsoft/OpenEduAnalytics/main/modules/module_catalog/Microsoft_Education_Insights/test_data/hed_test_data/roster/2022-01-28T06-16-22/PersonPhoneNumber/personphonenumber.csv').text\r\n",
        "oea.land(data, 'M365/v1.14/PersonPhoneNumber', 'personphonenumber_hed_test_data.csv', oea.SNAPSHOT_BATCH_DATA)\r\n",
        "data = requests.get('https://raw.githubusercontent.com/microsoft/OpenEduAnalytics/main/modules/module_catalog/Microsoft_Education_Insights/test_data/hed_test_data/roster/2022-01-28T06-16-22/PersonRelationship/personrelationship.csv').text\r\n",
        "oea.land(data, 'M365/v1.14/PersonRelationship', 'personrelationship_hed_test_data.csv', oea.SNAPSHOT_BATCH_DATA)\r\n",
        "data = requests.get('https://raw.githubusercontent.com/microsoft/OpenEduAnalytics/main/modules/module_catalog/Microsoft_Education_Insights/test_data/hed_test_data/roster/2022-01-28T06-16-22/RefDefinition/refdefinition.csv').text\r\n",
        "oea.land(data, 'M365/v1.14/RefDefinition', 'refdefinition_hed_test_data.csv', oea.SNAPSHOT_BATCH_DATA)\r\n",
        "data = requests.get('https://raw.githubusercontent.com/microsoft/OpenEduAnalytics/main/modules/module_catalog/Microsoft_Education_Insights/test_data/hed_test_data/roster/2022-01-28T06-16-22/RefTranslation/reftranslation.csv').text\r\n",
        "oea.land(data, 'M365/v1.14/RefTranslation', 'reftranslation_hed_test_data.csv', oea.SNAPSHOT_BATCH_DATA)\r\n",
        "data = requests.get('https://raw.githubusercontent.com/microsoft/OpenEduAnalytics/main/modules/module_catalog/Microsoft_Education_Insights/test_data/hed_test_data/roster/2022-01-28T06-16-22/Section/section.csv').text\r\n",
        "oea.land(data, 'M365/v1.14/Section', 'section_hed_test_data.csv', oea.SNAPSHOT_BATCH_DATA)\r\n",
        "data = requests.get('https://raw.githubusercontent.com/microsoft/OpenEduAnalytics/main/modules/module_catalog/Microsoft_Education_Insights/test_data/hed_test_data/roster/2022-01-28T06-16-22/SectionGradeLevel/sectiongradelevel.csv').text\r\n",
        "oea.land(data, 'M365/v1.14/SectionGradeLevel', 'sectiongradelevel_hed_test_data.csv', oea.SNAPSHOT_BATCH_DATA)\r\n",
        "data = requests.get('https://raw.githubusercontent.com/microsoft/OpenEduAnalytics/main/modules/module_catalog/Microsoft_Education_Insights/test_data/hed_test_data/roster/2022-01-28T06-16-22/SectionSession/sectionsession.csv').text\r\n",
        "oea.land(data, 'M365/v1.14/SectionSession', 'sectionsession_hed_test_data.csv', oea.SNAPSHOT_BATCH_DATA)\r\n",
        "data = requests.get('https://raw.githubusercontent.com/microsoft/OpenEduAnalytics/main/modules/module_catalog/Microsoft_Education_Insights/test_data/hed_test_data/roster/2022-01-28T06-16-22/SectionSubject/sectionsubject.csv').text\r\n",
        "oea.land(data, 'M365/v1.14/SectionSubject', 'sectionsubject_hed_test_data.csv', oea.SNAPSHOT_BATCH_DATA)\r\n",
        "data = requests.get('https://raw.githubusercontent.com/microsoft/OpenEduAnalytics/main/modules/module_catalog/Microsoft_Education_Insights/test_data/hed_test_data/roster/2022-01-28T06-16-22/Session/session.csv').text\r\n",
        "oea.land(data, 'M365/v1.14/Session', 'session_hed_test_data.csv', oea.SNAPSHOT_BATCH_DATA)\r\n",
        "data = requests.get('https://raw.githubusercontent.com/microsoft/OpenEduAnalytics/main/modules/module_catalog/Microsoft_Education_Insights/test_data/hed_test_data/roster/2022-01-28T06-16-22/SourceSystem/sourcesystem.csv').text\r\n",
        "oea.land(data, 'M365/v1.14/SourceSystem', 'sourcesystem_hed_test_data.csv', oea.SNAPSHOT_BATCH_DATA)"
      ],
      "outputs": [],
      "execution_count": 3,
      "metadata": {
        "jupyter": {
          "source_hidden": false,
          "outputs_hidden": false
        },
        "nteract": {
          "transient": {
            "deleting": false
          }
        }
      }
    },
    {
      "cell_type": "markdown",
      "source": [
        "## 3.) Ingest the Insights Module Test Data\r\n",
        "\r\n",
        "This step ingests the Insights module test data from stage1 to stage2/Ingested (ingests either the K-12 or Higher Ed. test data - whichever dataset is in your lake, chosen from the last step).\r\n",
        "\r\n",
        "Both test datasets are formatted exactly as the Insights data - thus, there will be no column names or correct dtypes, initially. Ingest the data using the ```oea.ingest()``` function as normal, and next step will correct the table schemas.\r\n",
        "\r\n",
        "**To-Do's:**\r\n",
        " - Check this method of adding a primary key column (MembershipId) to the AadGroupMembership table is sufficient."
      ],
      "metadata": {
        "nteract": {
          "transient": {
            "deleting": false
          }
        }
      }
    },
    {
      "cell_type": "code",
      "source": [
        "# 3) The next step is to ingest the batch data into stage2\r\n",
        "# Note that when you run this the first time, you'll see an info message like \"Number of new inbound rows processed: 2\".\r\n",
        "# If you run this a second time, the number of inbound rows processed will be 0 because the ingestion uses spark structured streaming to keep track of what data has already been processed.\r\n",
        "options = {'header':False}\r\n",
        "oea.ingest(f'M365/v1.14/activity', '_c3', options)\r\n",
        "oea.ingest(f'M365/v1.14/AadGroup', '_c0', options)\r\n",
        "#oea.ingest(f'M365/v1.14/AadGroupMembership', options) # <- no solution (at the moment) for ingesting this table, since there isn't a unique-primary key\r\n",
        "oea.ingest(f'M365/v1.14/AadUser', '_c0', options)\r\n",
        "oea.ingest(f'M365/v1.14/AadUserPersonMapping', '_c0', options)\r\n",
        "oea.ingest(f'M365/v1.14/Course', '_c0', options)\r\n",
        "oea.ingest(f'M365/v1.14/CourseGradeLevel', '_c0', options)\r\n",
        "oea.ingest(f'M365/v1.14/CourseSubject', '_c0', options)\r\n",
        "oea.ingest(f'M365/v1.14/Enrollment', '_c0', options)\r\n",
        "oea.ingest(f'M365/v1.14/Organization', '_c0', options)\r\n",
        "oea.ingest(f'M365/v1.14/Person', '_c0', options)\r\n",
        "oea.ingest(f'M365/v1.14/PersonDemographic', '_c0', options)\r\n",
        "oea.ingest(f'M365/v1.14/PersonDemographicEthnicity', '_c0', options)\r\n",
        "oea.ingest(f'M365/v1.14/PersonDemographicPersonFlag', '_c0', options)\r\n",
        "oea.ingest(f'M365/v1.14/PersonDemographicRace', '_c0', options)\r\n",
        "oea.ingest(f'M365/v1.14/PersonEmailAddress', '_c0', options)\r\n",
        "oea.ingest(f'M365/v1.14/PersonIdentifier', '_c0', options)\r\n",
        "oea.ingest(f'M365/v1.14/PersonOrganizationRole', '_c0', options)\r\n",
        "oea.ingest(f'M365/v1.14/PersonPhoneNumber', '_c0', options)\r\n",
        "#oea.ingest(f'M365/v1.14/PersonRelationship', '_c0', options) # <- no test data currently\r\n",
        "oea.ingest(f'M365/v1.14/RefDefinition', '_c0', options)\r\n",
        "#oea.ingest(f'M365/v1.14/RefTranslation', '_c0', options) # <- no test data currently\r\n",
        "oea.ingest(f'M365/v1.14/Section', '_c0', options)\r\n",
        "oea.ingest(f'M365/v1.14/SectionGradeLevel', '_c0', options)\r\n",
        "oea.ingest(f'M365/v1.14/SectionSession', '_c0', options)\r\n",
        "oea.ingest(f'M365/v1.14/SectionSubject', '_c0', options)\r\n",
        "oea.ingest(f'M365/v1.14/Session', '_c0', options)\r\n",
        "oea.ingest(f'M365/v1.14/SourceSystem', '_c0', options)"
      ],
      "outputs": [],
      "execution_count": 4,
      "metadata": {
        "jupyter": {
          "source_hidden": false,
          "outputs_hidden": false
        },
        "nteract": {
          "transient": {
            "deleting": false
          }
        }
      }
    },
    {
      "cell_type": "code",
      "source": [
        "# 3.1) read in the original AadGroupMembership table, add the primary key column and confirm it has been added.\r\n",
        "df = spark.read.format('csv').load(oea.to_url('stage1/Transactional/M365/v1.14/AadGroupMembership'), header='false')\r\n",
        "df_corrected = df.withColumn('_c5', F.concat(F.col('_c0'),F.lit('_'),F.col('_c1')))\r\n",
        "df_corrected = df_corrected.select('_c0', '_c1', '_c2', '_c3', '_c4', '_c5')\r\n",
        "display(df_corrected.limit(10))"
      ],
      "outputs": [],
      "execution_count": null,
      "metadata": {
        "jupyter": {
          "source_hidden": false,
          "outputs_hidden": false
        },
        "nteract": {
          "transient": {
            "deleting": false
          }
        }
      }
    },
    {
      "cell_type": "code",
      "source": [
        "# 3.2) set the current date and time (using the correct format), and write out to the same relative location, with a new rundate partition-folder.\r\n",
        "import datetime\r\n",
        "currentDate = datetime.datetime.now()\r\n",
        "currentDateTime = currentDate.strftime(\"%Y-%m-%d %H:%M:%S\")\r\n",
        "table_path = 'stage1/Transactional/M365/v1.14/AadGroupMembership/snapshot_batch_data/rundate=' + currentDateTime\r\n",
        "df_corrected.write.save(oea.to_url(table_path), format='csv', mode='overwrite', overwriteSchema='true', header='false')"
      ],
      "outputs": [],
      "execution_count": null,
      "metadata": {
        "jupyter": {
          "source_hidden": false,
          "outputs_hidden": false
        },
        "nteract": {
          "transient": {
            "deleting": false
          }
        }
      }
    },
    {
      "cell_type": "code",
      "source": [
        "# 3.3) only house the latest rundate folder compared to the old data (which didn't have the primary key column).\r\n",
        "def clean_data_lake_latest(source_path):\r\n",
        "    latest_folder = oea.get_latest_folder(source_path)\r\n",
        "    items = mssparkutils.fs.ls(oea.to_url(source_path))\r\n",
        "    for item in items:\r\n",
        "        if item.name != latest_folder:\r\n",
        "            logger.info('file removal path: ' + item.path + ' with item: ' + item.name)\r\n",
        "            oea.rm_if_exists(source_path + '/' + item.name)\r\n",
        "            logger.info('Successfully removed folder: ' + item.name + ' from path: ' + item.path)\r\n",
        "        else:\r\n",
        "            logger.info('Kept folder: ' + item.name + ' from path: ' + item.path)\r\n",
        "    logger.info('Finished cleaning data lake to house only the latest folder')"
      ],
      "outputs": [],
      "execution_count": null,
      "metadata": {
        "jupyter": {
          "source_hidden": false,
          "outputs_hidden": false
        },
        "nteract": {
          "transient": {
            "deleting": false
          }
        }
      }
    },
    {
      "cell_type": "code",
      "source": [
        "clean_data_lake_latest('stage1/Transactional/M365/v1.14/AadGroupMembership/snapshot_batch_data')"
      ],
      "outputs": [],
      "execution_count": null,
      "metadata": {
        "jupyter": {
          "source_hidden": false,
          "outputs_hidden": false
        },
        "nteract": {
          "transient": {
            "deleting": false
          }
        }
      }
    },
    {
      "cell_type": "code",
      "source": [
        "# 3.4) ad hoc work - remove the _SUCCESS file, otherwise this will throw an error when ingesting the table.\r\n",
        "table_path = 'stage1/Transactional/M365/v1.14/AadGroupMembership/snapshot_batch_data/rundate=' + currentDateTime\r\n",
        "oea.rm_if_exists(table_path + '/_SUCCESS', False)"
      ],
      "outputs": [],
      "execution_count": null,
      "metadata": {
        "jupyter": {
          "source_hidden": false,
          "outputs_hidden": false
        },
        "nteract": {
          "transient": {
            "deleting": false
          }
        }
      }
    },
    {
      "cell_type": "code",
      "source": [
        "# 3.5) Now you can run queries against the auto-generated \"lake database\" with the ingested Insights data.\r\n",
        "df = spark.sql(\"select * from ldb_sam_s2i_m365_v1p14.activity\")\r\n",
        "display(df.limit(10))"
      ],
      "outputs": [],
      "execution_count": 5,
      "metadata": {
        "jupyter": {
          "source_hidden": false,
          "outputs_hidden": false
        },
        "nteract": {
          "transient": {
            "deleting": false
          }
        },
        "collapsed": false
      }
    },
    {
      "cell_type": "markdown",
      "source": [
        "## 4.) Insights Schema Corrections\r\n",
        "\r\n",
        "This step uses the same four functions from the \"Insights_schema_correction\" notebook, where the metadata.csv is used to correct each table's schema. Each table's schema is updated with the corrected column names and dtypes.\r\n",
        "\r\n",
        "After the schema is corrected, each table is overwritten in stage2/Ingested."
      ],
      "metadata": {
        "nteract": {
          "transient": {
            "deleting": false
          }
        }
      }
    },
    {
      "cell_type": "code",
      "source": [
        "# 4) schema correction, since Insights test data initially landed doesn't have column headers or correct dtypes.\r\n",
        "\r\n",
        "def _extract_element(lst, element_num=0):\r\n",
        "    return [item[element_num] for item in lst]\r\n",
        "\r\n",
        "def _dtype_config(dtype_lst):\r\n",
        "    return [item.capitalize() + 'Type()' for item in dtype_lst]\r\n",
        "\r\n",
        "def correct_insights_table_schema(df, table_name):\r\n",
        "    list_of_column_names = _extract_element(metadata[table_name])\r\n",
        "    list_of_column_dtypes = _extract_element(metadata[table_name], 1)\r\n",
        "    list_of_column_dtypes = _dtype_config(list_of_column_dtypes)\r\n",
        "\r\n",
        "    n = 0\r\n",
        "    df_updatedColumns = df\r\n",
        "    for c in df.columns:\r\n",
        "        if c != 'rundate':\r\n",
        "            new_col_name = list_of_column_names[n]\r\n",
        "            df_updatedColumns = df_updatedColumns.withColumnRenamed(c, new_col_name)\r\n",
        "            if list_of_column_dtypes[n] != 'StringType()':\r\n",
        "                if list_of_column_dtypes[n] == 'IntegerType()':\r\n",
        "                    df_updatedColumns = df_updatedColumns.withColumn(new_col_name, df_updatedColumns[new_col_name].cast(IntegerType()))\r\n",
        "                elif list_of_column_dtypes[n] == 'TimestampType()':\r\n",
        "                    df_updatedColumns = df_updatedColumns.withColumn(new_col_name, df_updatedColumns[new_col_name].cast(TimestampType()))\r\n",
        "                elif list_of_column_dtypes == 'ShortType()':\r\n",
        "                    df_updatedColumns = df_updatedColumns.withColumn(new_col_name, df_updatedColumns[new_col_name].cast(ShortType()))\r\n",
        "                elif list_of_column_dtypes[n] == 'LongType()':\r\n",
        "                    df_updatedColumns = df_updatedColumns.withColumn(new_col_name, df_updatedColumns[new_col_name].cast(LongType()))\r\n",
        "                elif list_of_column_dtypes[n] == 'DoubleType()':\r\n",
        "                    df_updatedColumns = df_updatedColumns.withColumn(new_col_name, df_updatedColumns[new_col_name].cast(DoubleType()))\r\n",
        "                elif list_of_column_dtypes[n] == 'DateType()':\r\n",
        "                    df_updatedColumns = df_updatedColumns.withColumn(new_col_name, df_updatedColumns[new_col_name].cast(DateType()))\r\n",
        "                elif list_of_column_dtypes[n] == 'BooleanType()':\r\n",
        "                    df_updatedColumns = df_updatedColumns.withColumn(new_col_name, df_updatedColumns[new_col_name].cast(BooleanType()))\r\n",
        "        else:\r\n",
        "            df_updatedColumns = df_updatedColumns\r\n",
        "        n = n + 1\r\n",
        "    return df_updatedColumns\r\n",
        "\r\n",
        "def correct_insights_dataset(tables_source, write_destination):\r\n",
        "    items = oea.get_folders(tables_source)\r\n",
        "    for item in items: \r\n",
        "        if item == 'metadata.csv':\r\n",
        "            logger.info('ignore metadata processing, since this is not a table to be ingested')\r\n",
        "        else:\r\n",
        "            table_path = tables_source +'/'+ item\r\n",
        "            spark.sql(\"set spark.sql.streaming.schemaInference=true\")\r\n",
        "            streaming_df = spark.readStream.format('delta').load(oea.to_url(table_path))\r\n",
        "            df_corrected = correct_insights_table_schema(streaming_df, table_name=item)\r\n",
        "            query = df_corrected.writeStream.format('delta').outputMode('append').trigger(once=True).option('checkpointLocation', oea.to_url(table_path) + '/_checkpoints')\r\n",
        "            query = query.start(oea.to_url(write_destination + '/' +item))\r\n",
        "            query.awaitTermination() \r\n",
        "            logger.info('Successfully corrected the schema for table: ' + item + ' from: ' + table_path)"
      ],
      "outputs": [],
      "execution_count": 6,
      "metadata": {
        "jupyter": {
          "source_hidden": false,
          "outputs_hidden": false
        },
        "nteract": {
          "transient": {
            "deleting": false
          }
        }
      }
    },
    {
      "cell_type": "code",
      "source": [
        "metadata = oea.get_metadata_from_url('https://raw.githubusercontent.com/microsoft/OpenEduAnalytics/main/modules/module_catalog/Microsoft_Education_Insights/test_data/metadata.csv')\r\n",
        "correct_insights_dataset('stage2/Ingested/M365/v1.14', 'stage2/Ingested_Corrected/M365/v1.14')"
      ],
      "outputs": [],
      "execution_count": 7,
      "metadata": {
        "jupyter": {
          "source_hidden": false,
          "outputs_hidden": false
        },
        "nteract": {
          "transient": {
            "deleting": false
          }
        }
      }
    },
    {
      "cell_type": "code",
      "source": [
        "df = spark.read.format('delta').load(oea.to_url('stage2/Ingested/M365/v1.14/activity'), header='true')\r\n",
        "display(df.limit(10))"
      ],
      "outputs": [],
      "execution_count": 8,
      "metadata": {
        "jupyter": {
          "source_hidden": false,
          "outputs_hidden": false
        },
        "nteract": {
          "transient": {
            "deleting": false
          }
        },
        "collapsed": false
      }
    },
    {
      "cell_type": "code",
      "source": [
        "df.printSchema()"
      ],
      "outputs": [],
      "execution_count": 9,
      "metadata": {
        "jupyter": {
          "source_hidden": false,
          "outputs_hidden": false
        },
        "nteract": {
          "transient": {
            "deleting": false
          }
        }
      }
    },
    {
      "cell_type": "markdown",
      "source": [
        "## 5.) Refine the Insights Module Test Data\r\n",
        "This step then refines the Insights test data from stage2/Ingested to stage2/Refined, using the metadata.csv. This step is responsible for pseudonymization, which preserves sensitive student information by either hashing or masking the sensitive columns. \r\n",
        "\r\n",
        "Tables are separated into either ```stage2/Refined/M365/v1.14/general``` or ```stage2/Refined/M365/v1.14/sensitive```, depending on whether each table is pseudonymized or has a sensitive column-hashing/masking mapping, respectively.\r\n",
        "\r\n",
        "There are some minor bugs with this step, as some of the lookup tables are not created, as needed. This will be updated.\r\n",
        "\r\n",
        "**To-Do's:**\r\n",
        " - Find workaround for creating lookup tables, when the primary key is un-hashed after pseudonymization \r\n",
        "    * (i.e. *affected tables*: PersonDemographicEthnicity, PersonDemographicPersonFlag, PersonDemographicRace, PersonEmailAddress, PersonIdentifier, PersonOrganizationRole, and PersonPhoneNumber). \r\n",
        " - Resolve ingesting and refining AadGroupMembership table."
      ],
      "metadata": {
        "nteract": {
          "transient": {
            "deleting": false
          }
        }
      }
    },
    {
      "cell_type": "code",
      "source": [
        "# 2) this step refines the data through the use of metadata (this is where the pseudonymization of the data occurs).\r\n",
        "def refine_corrected(entity_path, metadata=None, primary_key='id'):\r\n",
        "    source_path = f'stage2/Ingested_Corrected/{entity_path}'\r\n",
        "    primary_key = oea.fix_column_name(primary_key) # fix the column name, in case it has a space in it or some other invalid character\r\n",
        "    path_dict = oea.parse_path(source_path)\r\n",
        "    sink_general_path = path_dict['entity_parent_path'].replace('Ingested_Corrected', 'Refined') + '/general/' + path_dict['entity']\r\n",
        "    sink_sensitive_path = path_dict['entity_parent_path'].replace('Ingested_Corrected', 'Refined') + '/sensitive/' + path_dict['entity'] + '_lookup'\r\n",
        "    if not metadata:\r\n",
        "        all_metadata = oea.get_metadata_from_path(path_dict['entity_parent_path'])\r\n",
        "        metadata = all_metadata[path_dict['entity']]\r\n",
        "\r\n",
        "    df_changes = oea.get_latest_changes(source_path, sink_general_path)\r\n",
        "    spark_schema = oea.to_spark_schema(metadata)\r\n",
        "    df_changes = oea.modify_schema(df_changes, spark_schema)        \r\n",
        "\r\n",
        "    if df_changes.count() > 0:\r\n",
        "        df_pseudo, df_lookup = oea.pseudonymize(df_changes, metadata)\r\n",
        "        oea.upsert(df_pseudo, sink_general_path, primary_key) # todo: remove this assumption that the primary key will always be hashed during pseduonymization\r\n",
        "        oea.upsert(df_lookup, sink_sensitive_path, primary_key)    \r\n",
        "        oea.add_to_lake_db(sink_general_path)\r\n",
        "        oea.add_to_lake_db(sink_sensitive_path)\r\n",
        "        logger.info(f'Processed {df_changes.count()} updated rows from {source_path} into stage2/Refined')\r\n",
        "    else:\r\n",
        "        logger.info(f'No updated rows in {source_path} to process.')\r\n",
        "    return df_changes.count()\r\n",
        "\r\n",
        "def refine_insights_dataset(tables_source):\r\n",
        "    items = oea.get_folders(tables_source)\r\n",
        "    for item in items: \r\n",
        "        table_path = tables_source +'/'+ item\r\n",
        "        if item == 'metadata.csv':\r\n",
        "            logger.info('ignore metadata processing, since this is not a table to be ingested')\r\n",
        "        else:\r\n",
        "            try:\r\n",
        "                if item == 'activity':\r\n",
        "                    refine_corrected('M365/v1.14/activity', metadata[item], 'SignalId')\r\n",
        "                elif item == 'AadGroup':\r\n",
        "                    refine_corrected('M365/v1.14/AadGroup', metadata[item], 'ObjectId_pseudonym')\r\n",
        "                elif item == 'AadGroupMembership':\r\n",
        "                    refine_corrected('M365/v1.14/AadGroup', metadata[item], 'MembershipId')\r\n",
        "                elif item == 'AadUser':\r\n",
        "                    refine_corrected('M365/v1.14/AadUser', metadata[item], 'ObjectId_pseudonym')\r\n",
        "                elif item == 'AadUserPersonMapping':\r\n",
        "                    refine_corrected('M365/v1.14/AadUserPersonMapping', metadata[item], 'ObjectId_pseudonym')\r\n",
        "                elif item == 'Person':\r\n",
        "                    refine_corrected('M365/v1.14/Person', metadata[item], 'Id_pseudonym')\r\n",
        "                elif item == 'PersonDemographic':\r\n",
        "                    refine_corrected('M365/v1.14/PersonDemographic', metadata[item], 'PersonId_pseudonym')\r\n",
        "                else:\r\n",
        "                    refine_corrected('M365/v1.14/' + item, metadata[item], 'Id')\r\n",
        "            except AnalysisException as e:\r\n",
        "                # This means the table may have not been properly refined due to errors with the primary key not aligning with columns expected in the lookup table.\r\n",
        "                pass\r\n",
        "            \r\n",
        "            logger.info('Refined table: ' + item + ' from: ' + table_path)"
      ],
      "outputs": [],
      "execution_count": 13,
      "metadata": {
        "jupyter": {
          "source_hidden": false,
          "outputs_hidden": false
        },
        "nteract": {
          "transient": {
            "deleting": false
          }
        }
      }
    },
    {
      "cell_type": "code",
      "source": [
        "metadata = oea.get_metadata_from_url('https://raw.githubusercontent.com/microsoft/OpenEduAnalytics/main/modules/module_catalog/Microsoft_Education_Insights/test_data/metadata.csv')\r\n",
        "refine_insights_dataset('stage2/Ingested/M365/v1.14')"
      ],
      "outputs": [],
      "execution_count": 14,
      "metadata": {
        "jupyter": {
          "source_hidden": false,
          "outputs_hidden": false
        },
        "nteract": {
          "transient": {
            "deleting": false
          }
        }
      }
    },
    {
      "cell_type": "code",
      "source": [
        "# This block represents what the blocks above (in this step) accomplish\r\n",
        "#metadata = oea.get_metadata_from_url('https://raw.githubusercontent.com/microsoft/OpenEduAnalytics/main/modules/module_catalog/Microsoft_Education_Insights/test_data/metadata.csv')\r\n",
        "\r\n",
        "#oea.refine('M365/v1.14/activity', metadata['activity'], 'SignalId')\r\n",
        "#oea.refine('M365/v1.14/AadGroup', metadata['AadGroup'], 'ObjectId_pseudonym')\r\n",
        "#oea.refine('M365/v1.14/AadGroupMembership', metadata['AadGroupMembership']) # <- no solution (at the moment) for refining this table, since there isn't a unique-primary key\r\n",
        "#oea.refine('M365/v1.14/AadUser', metadata['AadUser'], 'ObjectId_pseudonym')\r\n",
        "#oea.refine('M365/v1.14/AadUserPersonMapping', metadata['AadUserPersonMapping'], 'ObjectId_pseudonym')\r\n",
        "#oea.refine('M365/v1.14/Course', metadata['Course'], 'Id')\r\n",
        "#oea.refine('M365/v1.14/CourseGradeLevel', metadata['CourseGradeLevel'], 'Id')\r\n",
        "#oea.refine('M365/v1.14/CourseSubject', metadata['CourseSubject'], 'Id')\r\n",
        "#oea.refine('M365/v1.14/Enrollment', metadata['Enrollment'], 'Id')\r\n",
        "#oea.refine('M365/v1.14/Organization', metadata['Organization'], 'Id')\r\n",
        "#oea.refine('M365/v1.14/Person', metadata['Person'], 'Id_pseudonym')\r\n",
        "#oea.refine('M365/v1.14/PersonDemographic', metadata['PersonDemographic'], 'PersonId_pseudonym')\r\n",
        "#oea.refine('M365/v1.14/PersonDemographicEthnicity', metadata['PersonDemographicEthnicity'], 'Id')\r\n",
        "#oea.refine('M365/v1.14/PersonDemographicPersonFlag', metadata['PersonDemographicPersonFlag'], 'Id')\r\n",
        "#oea.refine('M365/v1.14/PersonDemographicRace', metadata['PersonDemographicRace'], 'Id')\r\n",
        "#oea.refine('M365/v1.14/PersonEmailAddress', metadata['PersonEmailAddress'], 'Id')\r\n",
        "#oea.refine('M365/v1.14/PersonIdentifier', metadata['PersonIdentifier'], 'Id')\r\n",
        "#oea.refine('M365/v1.14/PersonOrganizationRole', metadata['PersonOrganizationRole'], 'Id')\r\n",
        "#oea.refine('M365/v1.14/PersonPhoneNumber', metadata['PersonPhoneNumber'], 'Id')\r\n",
        "#oea.refine('M365/v1.14/PersonRelationship', metadata['PersonRelationship'], 'Id') # <- no test data currently\r\n",
        "#oea.refine('M365/v1.14/RefDefinition', metadata['RefDefinition'], 'Id')\r\n",
        "#oea.refine('M365/v1.14/RefTranslation', metadata['RefTranslation'], 'Id') # <- no test data currently\r\n",
        "#oea.refine('M365/v1.14/Section', metadata['Section'], 'Id')\r\n",
        "#oea.refine('M365/v1.14/SectionGradeLevel', metadata['SectionGradeLevel'], 'Id')\r\n",
        "#oea.refine('M365/v1.14/SectionSession', metadata['SectionSession'], 'Id')\r\n",
        "#oea.refine('M365/v1.14/SectionSubject', metadata['SectionSubject'], 'Id')\r\n",
        "#oea.refine('M365/v1.14/Session', metadata['Session'], 'Id')\r\n",
        "#oea.refine('M365/v1.14/SourceSystem', metadata['SourceSystem'], 'Id')"
      ],
      "outputs": [],
      "execution_count": 11,
      "metadata": {
        "jupyter": {
          "source_hidden": false,
          "outputs_hidden": false
        },
        "nteract": {
          "transient": {
            "deleting": false
          }
        },
        "collapsed": false
      }
    },
    {
      "cell_type": "markdown",
      "source": [
        "## 6.) Demonstrate Lake Database Queries/Final Remarks"
      ],
      "metadata": {
        "nteract": {
          "transient": {
            "deleting": false
          }
        }
      }
    },
    {
      "cell_type": "code",
      "source": [
        "oea.add_to_lake_db('stage2/Refined/M365/v1.14/general/activity')"
      ],
      "outputs": [],
      "execution_count": 17,
      "metadata": {
        "jupyter": {
          "source_hidden": false,
          "outputs_hidden": false
        },
        "nteract": {
          "transient": {
            "deleting": false
          }
        }
      }
    },
    {
      "cell_type": "code",
      "source": [
        "# 6) Now you can query the refined data tables in the lake db\r\n",
        "df = spark.sql(\"select * from ldb_sam_s2r_m365_v1p14.activity\")\r\n",
        "display(df)\r\n",
        "df.printSchema()\r\n",
        "df = spark.sql(\"select * from ldb_sam_s2r_m365_v1p14.AadGroup_lookup\")\r\n",
        "display(df)\r\n",
        "df.printSchema()\r\n",
        "# You can use the \"lookup\" table for joins (people with restricted access won't be able to perform this query because they won't have access to data in the \"sensitive\" folder in the data lake)\r\n",
        "df = spark.sql(\"select a.SignalType, a.StartTime, a.SignalId, a.AppName, a.ActorId_pseudonym, a.ActorRole, agl.DisplayName from ldb_sam_s2r_m365_v1p14.AadGroup_lookup agl, ldb_sam_s2r_m365_v1p14.activity a where agl.ObjectId = a.ClassId\")\r\n",
        "display(df)"
      ],
      "outputs": [],
      "execution_count": 18,
      "metadata": {
        "jupyter": {
          "source_hidden": false,
          "outputs_hidden": false
        },
        "nteract": {
          "transient": {
            "deleting": false
          }
        },
        "collapsed": false
      }
    },
    {
      "cell_type": "code",
      "source": [
        "# Run this cell to reset this example (deleting all the example Insights data in your workspace)\r\n",
        "oea.rm_if_exists('stage1/Transactional/M365')\r\n",
        "oea.rm_if_exists('stage2/Ingested/M365')\r\n",
        "oea.rm_if_exists('stage2/Refined/M365')\r\n",
        "oea.drop_lake_db('ldb_sam_s2i_m365_v1p14')\r\n",
        "oea.drop_lake_db('ldb_sam_s2r_m365_v1p14')"
      ],
      "outputs": [],
      "execution_count": 19,
      "metadata": {
        "jupyter": {
          "source_hidden": false,
          "outputs_hidden": false
        },
        "nteract": {
          "transient": {
            "deleting": false
          }
        }
      }
    },
    {
      "cell_type": "markdown",
      "source": [
        "## Appendix"
      ],
      "metadata": {
        "nteract": {
          "transient": {
            "deleting": false
          }
        }
      }
    },
    {
      "cell_type": "code",
      "source": [
        "# generate an initial metadata file for manual modification\r\n",
        "metadata = oea.create_metadata_from_lake_db('ldb_sam_s2i_m365_v1p14')\r\n",
        "dlw = DataLakeWriter(oea.to_url('stage1/Transactional/M365'))\r\n",
        "dlw.write('metadata.csv', metadata)"
      ],
      "outputs": [],
      "execution_count": null,
      "metadata": {
        "jupyter": {
          "source_hidden": false,
          "outputs_hidden": false
        },
        "nteract": {
          "transient": {
            "deleting": false
          }
        }
      }
    },
    {
      "cell_type": "code",
      "source": [
        "# Create a sql db for the ingested Insights data\r\n",
        "oea.create_sql_db('stage2/Ingested/M365')"
      ],
      "outputs": [],
      "execution_count": null,
      "metadata": {
        "jupyter": {
          "source_hidden": false,
          "outputs_hidden": false
        },
        "nteract": {
          "transient": {
            "deleting": false
          }
        }
      }
    }
  ],
  "metadata": {
    "kernelspec": {
      "name": "synapse_pyspark",
      "display_name": "Synapse PySpark"
    },
    "language_info": {
      "name": "python"
    },
    "description": null,
    "save_output": true,
    "synapse_widget": {
      "version": "0.1",
      "state": {}
    }
  },
  "nbformat": 4,
  "nbformat_minor": 2
}