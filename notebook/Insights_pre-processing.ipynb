{
  "nbformat": 4,
  "nbformat_minor": 2,
  "metadata": {
    "kernelspec": {
      "name": "synapse_pyspark",
      "display_name": "Synapse PySpark"
    },
    "language_info": {
      "name": "python"
    },
    "description": "Used for \"2_ingest_insights\" pipeline. Adds a unique primary key column to the data originally landed.",
    "save_output": true,
    "synapse_widget": {
      "version": "0.1",
      "state": {
        "7d3a6f7c-c5e0-463f-b893-5e4681885a66": {
          "type": "Synapse.DataFrame",
          "sync_state": {
            "table": {
              "rows": [
                {
                  "0": "f269ed04def44e788b92acb93e96ef58",
                  "1": "72AA7803-11D6-4A48-B369-5B37F770F801",
                  "2": "Student",
                  "3": "2022-01-03",
                  "4": "2022-06-03",
                  "5": "2023-01-12 20:16:59",
                  "6": "f269ed04def44e788b92acb93e96ef58_72AA7803-11D6-4A48-B369-5B37F770F801"
                },
                {
                  "0": "c224bda7df3046a5803f915cb7e3fb58",
                  "1": "72AA7803-11D6-4A48-B369-5B37F770F801",
                  "2": "Student",
                  "3": "2022-01-03",
                  "4": "2022-06-03",
                  "5": "2023-01-12 20:16:59",
                  "6": "c224bda7df3046a5803f915cb7e3fb58_72AA7803-11D6-4A48-B369-5B37F770F801"
                },
                {
                  "0": "4f1f147402b94a968c71d9be05f819b3",
                  "1": "72AA7803-11D6-4A48-B369-5B37F770F801",
                  "2": "Student",
                  "3": "2022-01-03",
                  "4": "2022-06-03",
                  "5": "2023-01-12 20:16:59",
                  "6": "4f1f147402b94a968c71d9be05f819b3_72AA7803-11D6-4A48-B369-5B37F770F801"
                },
                {
                  "0": "09c674c72a67473280177c38aa60a4b8",
                  "1": "72AA7803-11D6-4A48-B369-5B37F770F801",
                  "2": "Student",
                  "3": "2022-01-03",
                  "4": "2022-06-03",
                  "5": "2023-01-12 20:16:59",
                  "6": "09c674c72a67473280177c38aa60a4b8_72AA7803-11D6-4A48-B369-5B37F770F801"
                },
                {
                  "0": "76a4fbb91cc349fcaaca33506bb54009",
                  "1": "72AA7803-11D6-4A48-B369-5B37F770F801",
                  "2": "Student",
                  "3": "2022-01-03",
                  "4": "2022-06-03",
                  "5": "2023-01-12 20:16:59",
                  "6": "76a4fbb91cc349fcaaca33506bb54009_72AA7803-11D6-4A48-B369-5B37F770F801"
                },
                {
                  "0": "4e46818d76094e9bab4e2a690c68e38b",
                  "1": "72AA7803-11D6-4A48-B369-5B37F770F801",
                  "2": "Student",
                  "3": "2022-01-03",
                  "4": "2022-06-03",
                  "5": "2023-01-12 20:16:59",
                  "6": "4e46818d76094e9bab4e2a690c68e38b_72AA7803-11D6-4A48-B369-5B37F770F801"
                },
                {
                  "0": "2994b7f9c06944fdbb2c10039a25efef",
                  "1": "72AA7803-11D6-4A48-B369-5B37F770F801",
                  "2": "Student",
                  "3": "2022-01-03",
                  "4": "2022-06-03",
                  "5": "2023-01-12 20:16:59",
                  "6": "2994b7f9c06944fdbb2c10039a25efef_72AA7803-11D6-4A48-B369-5B37F770F801"
                },
                {
                  "0": "95ef942f992545e3a6ac2ac56645284d",
                  "1": "72AA7803-11D6-4A48-B369-5B37F770F801",
                  "2": "Student",
                  "3": "2022-01-03",
                  "4": "2022-06-03",
                  "5": "2023-01-12 20:16:59",
                  "6": "95ef942f992545e3a6ac2ac56645284d_72AA7803-11D6-4A48-B369-5B37F770F801"
                },
                {
                  "0": "71d9b2307e044df8b8bf051db0dd2fcc",
                  "1": "72AA7803-11D6-4A48-B369-5B37F770F801",
                  "2": "Student",
                  "3": "2022-01-03",
                  "4": "2022-06-03",
                  "5": "2023-01-12 20:16:59",
                  "6": "71d9b2307e044df8b8bf051db0dd2fcc_72AA7803-11D6-4A48-B369-5B37F770F801"
                },
                {
                  "0": "a0a57a6ff5374544b2871473c541872f",
                  "1": "72AA7803-11D6-4A48-B369-5B37F770F801",
                  "2": "Student",
                  "3": "2022-01-03",
                  "4": "2022-06-03",
                  "5": "2023-01-12 20:16:59",
                  "6": "a0a57a6ff5374544b2871473c541872f_72AA7803-11D6-4A48-B369-5B37F770F801"
                }
              ],
              "schema": [
                {
                  "key": "0",
                  "name": "_c0",
                  "type": "string"
                },
                {
                  "key": "1",
                  "name": "_c1",
                  "type": "string"
                },
                {
                  "key": "2",
                  "name": "_c2",
                  "type": "string"
                },
                {
                  "key": "3",
                  "name": "_c3",
                  "type": "string"
                },
                {
                  "key": "4",
                  "name": "_c4",
                  "type": "string"
                },
                {
                  "key": "5",
                  "name": "rundate",
                  "type": "timestamp"
                },
                {
                  "key": "6",
                  "name": "_c5",
                  "type": "string"
                }
              ],
              "truncated": false
            },
            "isSummary": false,
            "language": "scala"
          },
          "persist_state": {
            "view": {
              "type": "details",
              "tableOptions": {},
              "chartOptions": {
                "chartType": "bar",
                "aggregationType": "count",
                "categoryFieldKeys": [
                  "0"
                ],
                "seriesFieldKeys": [
                  "0"
                ],
                "isStacked": false
              }
            }
          }
        }
      }
    }
  },
  "cells": [
    {
      "cell_type": "markdown",
      "metadata": {
        "nteract": {
          "transient": {
            "deleting": false
          }
        }
      },
      "source": [
        "# Insights Module Ingestion - Pre-Processing\r\n",
        "\r\n",
        "This notebook demonstrates the utility of the OEA_py class notebook, by adding the unique primary key column to the AadGroupMembership table pre-ingestion. Once the column is added, the table is overwritten in stage1.\r\n",
        "\r\n",
        "The steps outlined below describe how this notebook is used to correct the Microsoft Education Insights module AadGroupMembership table:\r\n",
        "- Set the workspace for where the AadGroupMembership table is to be corrected. \r\n",
        "- Read in the original CSV landed in ```stage1/Transactional/M365/v1.14/AadGroupMembership``` and add the primary key column. Overwrite the CSV (and remove any additional rundate folders, as described by the method below).\r\n",
        "- 1 function is defined and used:\r\n",
        "   1. **clean_data_lake_latest**: removes any additional folders in the data lake for a location, keeping only the latest rundate folder.\r\n",
        "\r\n",
        "**This notebook may either need updating or removal from pipeline, when processing production data.**"
      ]
    },
    {
      "cell_type": "code",
      "execution_count": 1,
      "outputs": [
        {
          "output_type": "display_data",
          "data": {
            "application/vnd.livy.statement-meta+json": {
              "spark_pool": "spark3p2med",
              "session_id": "73",
              "statement_id": 1,
              "state": "finished",
              "livy_statement_state": "available",
              "queued_time": "2023-01-12T20:44:38.4846488Z",
              "session_start_time": "2023-01-12T20:44:38.5214477Z",
              "execution_start_time": "2023-01-12T20:45:21.6680073Z",
              "execution_finish_time": "2023-01-12T20:45:21.842209Z",
              "spark_jobs": null
            },
            "text/plain": "StatementMeta(spark3p2med, 73, 1, Finished, Available)"
          },
          "metadata": {}
        }
      ],
      "metadata": {
        "jupyter": {
          "source_hidden": false,
          "outputs_hidden": false
        },
        "nteract": {
          "transient": {
            "deleting": false
          }
        },
        "tags": [
          "parameters"
        ]
      },
      "source": [
        "workspace = 'dev'"
      ]
    },
    {
      "cell_type": "code",
      "execution_count": 2,
      "outputs": [
        {
          "output_type": "display_data",
          "data": {
            "application/vnd.livy.statement-meta+json": {
              "spark_pool": null,
              "session_id": "73",
              "statement_id": -1,
              "state": "finished",
              "livy_statement_state": "available",
              "queued_time": "2023-01-12T20:44:49.0612486Z",
              "session_start_time": null,
              "execution_start_time": "2023-01-12T20:45:22.8725171Z",
              "execution_finish_time": "2023-01-12T20:45:22.8727596Z",
              "spark_jobs": null
            },
            "text/plain": "StatementMeta(, 73, -1, Finished, Available)"
          },
          "metadata": {}
        },
        {
          "output_type": "stream",
          "name": "stdout",
          "text": [
            "2023-01-12 20:45:22,452 - OEA - INFO - Now using workspace: dev\n2023-01-12 20:45:22,453 - OEA - INFO - OEA initialized.\n"
          ]
        }
      ],
      "metadata": {
        "jupyter": {
          "source_hidden": false,
          "outputs_hidden": false
        },
        "nteract": {
          "transient": {
            "deleting": false
          }
        }
      },
      "source": [
        "%run OEA_py"
      ]
    },
    {
      "cell_type": "code",
      "execution_count": 3,
      "outputs": [
        {
          "output_type": "display_data",
          "data": {
            "application/vnd.livy.statement-meta+json": {
              "spark_pool": "spark3p2med",
              "session_id": "73",
              "statement_id": 3,
              "state": "finished",
              "livy_statement_state": "available",
              "queued_time": "2023-01-12T20:44:50.7305857Z",
              "session_start_time": null,
              "execution_start_time": "2023-01-12T20:45:22.9773963Z",
              "execution_finish_time": "2023-01-12T20:45:23.1493461Z",
              "spark_jobs": null
            },
            "text/plain": "StatementMeta(spark3p2med, 73, 3, Finished, Available)"
          },
          "metadata": {}
        },
        {
          "output_type": "stream",
          "name": "stdout",
          "text": [
            "2023-01-12 20:45:22,962 - OEA - INFO - Now using workspace: dev\n"
          ]
        }
      ],
      "metadata": {
        "jupyter": {
          "source_hidden": false,
          "outputs_hidden": false
        },
        "nteract": {
          "transient": {
            "deleting": false
          }
        }
      },
      "source": [
        "# 1) set the workspace (this determines where in the data lake you'll be writing to and reading from).\r\n",
        "# You can work in 'dev', 'prod', or a sandbox with any name you choose.\r\n",
        "# For example, Sam the developer can create a 'sam' workspace and expect to find his datasets in the data lake under oea/sandboxes/sam\r\n",
        "oea.set_workspace(workspace)"
      ]
    },
    {
      "cell_type": "code",
      "execution_count": 5,
      "outputs": [
        {
          "output_type": "display_data",
          "data": {
            "application/vnd.livy.statement-meta+json": {
              "spark_pool": "spark3p2med",
              "session_id": "73",
              "statement_id": 5,
              "state": "finished",
              "livy_statement_state": "available",
              "queued_time": "2023-01-12T20:46:58.8165029Z",
              "session_start_time": null,
              "execution_start_time": "2023-01-12T20:46:58.9190196Z",
              "execution_finish_time": "2023-01-12T20:47:13.7178373Z",
              "spark_jobs": null
            },
            "text/plain": "StatementMeta(spark3p2med, 73, 5, Finished, Available)"
          },
          "metadata": {}
        },
        {
          "output_type": "display_data",
          "data": {
            "application/vnd.synapse.widget-view+json": {
              "widget_id": "7d3a6f7c-c5e0-463f-b893-5e4681885a66",
              "widget_type": "Synapse.DataFrame"
            },
            "text/plain": "SynapseWidget(Synapse.DataFrame, 7d3a6f7c-c5e0-463f-b893-5e4681885a66)"
          },
          "metadata": {}
        }
      ],
      "metadata": {
        "jupyter": {
          "source_hidden": false,
          "outputs_hidden": false
        },
        "nteract": {
          "transient": {
            "deleting": false
          }
        },
        "collapsed": false
      },
      "source": [
        "# 2) read in the original AadGroupMembership table, add the primary key column and confirm it has been added.\r\n",
        "df = spark.read.format('csv').load(oea.to_url('stage1/Transactional/M365/v1.14/AadGroupMembership'), header='false')\r\n",
        "df_corrected = df.withColumn('_c5', F.concat(F.col('_c0'),F.lit('_'),F.col('_c1')))\r\n",
        "df_corrected = df_corrected.select('_c0', '_c1', '_c2', '_c3', '_c4', '_c5')\r\n",
        "display(df_corrected.limit(10))"
      ]
    },
    {
      "cell_type": "code",
      "execution_count": 6,
      "outputs": [
        {
          "output_type": "display_data",
          "data": {
            "application/vnd.livy.statement-meta+json": {
              "spark_pool": "spark3p2med",
              "session_id": "73",
              "statement_id": 6,
              "state": "finished",
              "livy_statement_state": "available",
              "queued_time": "2023-01-12T20:47:35.4051513Z",
              "session_start_time": null,
              "execution_start_time": "2023-01-12T20:47:35.521621Z",
              "execution_finish_time": "2023-01-12T20:47:38.3778648Z",
              "spark_jobs": null
            },
            "text/plain": "StatementMeta(spark3p2med, 73, 6, Finished, Available)"
          },
          "metadata": {}
        }
      ],
      "metadata": {
        "jupyter": {
          "source_hidden": false,
          "outputs_hidden": false
        },
        "nteract": {
          "transient": {
            "deleting": false
          }
        }
      },
      "source": [
        "# 2.5) set the current date and time (using the correct format), and write out to the same relative location, with a new rundate partition-folder.\r\n",
        "import datetime\r\n",
        "currentDate = datetime.datetime.now()\r\n",
        "currentDateTime = currentDate.strftime(\"%Y-%m-%d %H:%M:%S\")\r\n",
        "table_path = 'stage1/Transactional/M365/v1.14/AadGroupMembership/snapshot_batch_data/rundate=' + currentDateTime\r\n",
        "df_corrected.write.save(oea.to_url(table_path), format='csv', mode='overwrite', overwriteSchema='true', header='false')"
      ]
    },
    {
      "cell_type": "code",
      "execution_count": 7,
      "outputs": [
        {
          "output_type": "display_data",
          "data": {
            "application/vnd.livy.statement-meta+json": {
              "spark_pool": "spark3p2med",
              "session_id": "73",
              "statement_id": 7,
              "state": "finished",
              "livy_statement_state": "available",
              "queued_time": "2023-01-12T20:47:57.8499886Z",
              "session_start_time": null,
              "execution_start_time": "2023-01-12T20:47:57.9663314Z",
              "execution_finish_time": "2023-01-12T20:47:58.1275244Z",
              "spark_jobs": null
            },
            "text/plain": "StatementMeta(spark3p2med, 73, 7, Finished, Available)"
          },
          "metadata": {}
        }
      ],
      "metadata": {
        "jupyter": {
          "source_hidden": false,
          "outputs_hidden": false
        },
        "nteract": {
          "transient": {
            "deleting": false
          }
        }
      },
      "source": [
        "# 3) only house the latest rundate folder compared to the old data (which didn't have the primary key column).\r\n",
        "def clean_data_lake_latest(source_path):\r\n",
        "    latest_folder = oea.get_latest_folder(source_path)\r\n",
        "    items = mssparkutils.fs.ls(oea.to_url(source_path))\r\n",
        "    for item in items:\r\n",
        "        if item.name != latest_folder:\r\n",
        "            logger.info('file removal path: ' + item.path + ' with item: ' + item.name)\r\n",
        "            oea.rm_if_exists(source_path + '/' + item.name)\r\n",
        "            logger.info('Successfully removed folder: ' + item.name + ' from path: ' + item.path)\r\n",
        "        else:\r\n",
        "            logger.info('Kept folder: ' + item.name + ' from path: ' + item.path)\r\n",
        "    logger.info('Finished cleaning data lake to house only the latest folder')"
      ]
    },
    {
      "cell_type": "code",
      "execution_count": 8,
      "outputs": [
        {
          "output_type": "display_data",
          "data": {
            "application/vnd.livy.statement-meta+json": {
              "spark_pool": "spark3p2med",
              "session_id": "73",
              "statement_id": 8,
              "state": "finished",
              "livy_statement_state": "available",
              "queued_time": "2023-01-12T20:48:01.154457Z",
              "session_start_time": null,
              "execution_start_time": "2023-01-12T20:48:01.2622058Z",
              "execution_finish_time": "2023-01-12T20:48:01.9740472Z",
              "spark_jobs": null
            },
            "text/plain": "StatementMeta(spark3p2med, 73, 8, Finished, Available)"
          },
          "metadata": {}
        },
        {
          "output_type": "stream",
          "name": "stdout",
          "text": [
            "2023-01-12 20:48:01,344 - OEA - INFO - file removal path: abfss://oea@stoeacisd3v07kw1.dfs.core.windows.net/dev/stage1/Transactional/M365/v1.14/AadGroupMembership/snapshot_batch_data/rundate=2023-01-12 20:16:59 with item: rundate=2023-01-12 20:16:59\n2023-01-12 20:48:01,435 - OEA - INFO - Successfully removed folder: rundate=2023-01-12 20:16:59 from path: abfss://oea@stoeacisd3v07kw1.dfs.core.windows.net/dev/stage1/Transactional/M365/v1.14/AadGroupMembership/snapshot_batch_data/rundate=2023-01-12 20:16:59\n2023-01-12 20:48:01,436 - OEA - INFO - Kept folder: rundate=2023-01-12 20:47:35 from path: abfss://oea@stoeacisd3v07kw1.dfs.core.windows.net/dev/stage1/Transactional/M365/v1.14/AadGroupMembership/snapshot_batch_data/rundate=2023-01-12 20:47:35\n2023-01-12 20:48:01,436 - OEA - INFO - Finished cleaning data lake to house only the latest folder\n"
          ]
        }
      ],
      "metadata": {
        "jupyter": {
          "source_hidden": false,
          "outputs_hidden": false
        },
        "nteract": {
          "transient": {
            "deleting": false
          }
        }
      },
      "source": [
        "clean_data_lake_latest('stage1/Transactional/M365/v1.14/AadGroupMembership/snapshot_batch_data')"
      ]
    },
    {
      "cell_type": "code",
      "execution_count": 9,
      "outputs": [
        {
          "output_type": "display_data",
          "data": {
            "application/vnd.livy.statement-meta+json": {
              "spark_pool": "spark3p2med",
              "session_id": "73",
              "statement_id": 9,
              "state": "finished",
              "livy_statement_state": "available",
              "queued_time": "2023-01-12T20:48:14.3280092Z",
              "session_start_time": null,
              "execution_start_time": "2023-01-12T20:48:14.4320888Z",
              "execution_finish_time": "2023-01-12T20:48:14.5840284Z",
              "spark_jobs": null
            },
            "text/plain": "StatementMeta(spark3p2med, 73, 9, Finished, Available)"
          },
          "metadata": {}
        }
      ],
      "metadata": {
        "jupyter": {
          "source_hidden": false,
          "outputs_hidden": false
        },
        "nteract": {
          "transient": {
            "deleting": false
          }
        }
      },
      "source": [
        "# 4) ad hoc work - remove the _SUCCESS file, otherwise this will throw an error when ingesting the table.\r\n",
        "table_path = 'stage1/Transactional/M365/v1.14/AadGroupMembership/snapshot_batch_data/rundate=' + currentDateTime\r\n",
        "oea.rm_if_exists(table_path + '/_SUCCESS', False)"
      ]
    }
  ]
}