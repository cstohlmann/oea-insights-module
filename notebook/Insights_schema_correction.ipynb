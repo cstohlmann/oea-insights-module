{
  "cells": [
    {
      "cell_type": "markdown",
      "source": [
        "# Insights Module Schema Correction\r\n",
        "\r\n",
        "This notebook demonstrates the utility of the OEA_py class notebook, while correcting module tables initially ingested without headers and incorrect data types.\r\n",
        "\r\n",
        "The steps outlined below describe how this notebook is used to correct the Microsoft Education Insights module tables:\r\n",
        "- Set the workspace for where the table schemas are to be corrected. \r\n",
        "- 4 functions are defined and used:\r\n",
        "   1. **_extract_element**: uses the Insights metadata to extract the correct column names.\r\n",
        "   2. **_dtype_config**: uses the Insights metadata to extract the correct column dtypes.\r\n",
        "   3. **correct_insights_table_schema**: uses the corrected column names and dtypes to correct the schema per table given to the function.\r\n",
        "   4. **correct_insights_dataset**: extracts the names of all the folders currently stored in stage2/Ingested/M365, corrects the schema per table using the function above, and overwrites the tables with the updated schemas.\r\n",
        "   "
      ],
      "metadata": {
        "nteract": {
          "transient": {
            "deleting": false
          }
        }
      }
    },
    {
      "cell_type": "code",
      "source": [
        "workspace = 'dev'"
      ],
      "outputs": [
        {
          "output_type": "display_data",
          "data": {
            "application/vnd.livy.statement-meta+json": {
              "spark_pool": "spark3p2med",
              "session_id": "7",
              "statement_id": 1,
              "state": "finished",
              "livy_statement_state": "available",
              "queued_time": "2022-12-27T19:44:28.297079Z",
              "session_start_time": "2022-12-27T19:44:28.3456751Z",
              "execution_start_time": "2022-12-27T19:47:59.1569622Z",
              "execution_finish_time": "2022-12-27T19:47:59.3270531Z",
              "spark_jobs": null
            },
            "text/plain": "StatementMeta(spark3p2med, 7, 1, Finished, Available)"
          },
          "metadata": {}
        }
      ],
      "execution_count": 3,
      "metadata": {
        "jupyter": {
          "source_hidden": false,
          "outputs_hidden": false
        },
        "nteract": {
          "transient": {
            "deleting": false
          }
        },
        "tags": [
          "parameters"
        ]
      }
    },
    {
      "cell_type": "code",
      "source": [
        "%run OEA_py"
      ],
      "outputs": [
        {
          "output_type": "display_data",
          "data": {
            "application/vnd.livy.statement-meta+json": {
              "spark_pool": null,
              "session_id": "7",
              "statement_id": -1,
              "state": "finished",
              "livy_statement_state": "available",
              "queued_time": "2022-12-27T19:47:07.161561Z",
              "session_start_time": null,
              "execution_start_time": "2022-12-27T19:48:05.305873Z",
              "execution_finish_time": "2022-12-27T19:48:05.3062418Z",
              "spark_jobs": null
            },
            "text/plain": "StatementMeta(, 7, -1, Finished, Available)"
          },
          "metadata": {}
        },
        {
          "output_type": "stream",
          "name": "stdout",
          "text": [
            "2022-12-27 19:48:03,881 - OEA - INFO - Now using workspace: dev\n2022-12-27 19:48:03,883 - OEA - INFO - OEA initialized.\n"
          ]
        }
      ],
      "execution_count": 4,
      "metadata": {
        "jupyter": {
          "source_hidden": false,
          "outputs_hidden": false
        },
        "nteract": {
          "transient": {
            "deleting": false
          }
        }
      }
    },
    {
      "cell_type": "code",
      "source": [
        "# 1) set the workspace (this determines where in the data lake you'll be writing to and reading from).\r\n",
        "# You can work in 'dev', 'prod', or a sandbox with any name you choose.\r\n",
        "# For example, Sam the developer can create a 'sam' workspace and expect to find his datasets in the data lake under oea/sandboxes/sam\r\n",
        "oea.set_workspace(workspace)"
      ],
      "outputs": [
        {
          "output_type": "display_data",
          "data": {
            "application/vnd.livy.statement-meta+json": {
              "spark_pool": "spark3p2med",
              "session_id": "7",
              "statement_id": 3,
              "state": "finished",
              "livy_statement_state": "available",
              "queued_time": "2022-12-27T19:47:09.0767064Z",
              "session_start_time": null,
              "execution_start_time": "2022-12-27T19:48:05.4202948Z",
              "execution_finish_time": "2022-12-27T19:48:05.5786955Z",
              "spark_jobs": null
            },
            "text/plain": "StatementMeta(spark3p2med, 7, 3, Finished, Available)"
          },
          "metadata": {}
        },
        {
          "output_type": "stream",
          "name": "stdout",
          "text": [
            "2022-12-27 19:48:05,400 - OEA - INFO - Now using workspace: dev\n"
          ]
        }
      ],
      "execution_count": 5,
      "metadata": {
        "jupyter": {
          "source_hidden": false,
          "outputs_hidden": false
        },
        "nteract": {
          "transient": {
            "deleting": false
          }
        }
      }
    },
    {
      "cell_type": "code",
      "source": [
        "# 2) schema correction, since Insights data initially landed doesn't have column headers\r\n",
        "\r\n",
        "def _extract_element(lst, element_num=0):\r\n",
        "    return [item[element_num] for item in lst]\r\n",
        "\r\n",
        "def _dtype_config(dtype_lst):\r\n",
        "    return [item.capitalize() + 'Type()' for item in dtype_lst]\r\n",
        "\r\n",
        "def correct_insights_table_schema(df, table_name):\r\n",
        "    list_of_column_names = _extract_element(metadata[table_name])\r\n",
        "    list_of_column_dtypes = _extract_element(metadata[table_name], 1)\r\n",
        "    list_of_column_dtypes = _dtype_config(list_of_column_dtypes)\r\n",
        "\r\n",
        "    n = 0\r\n",
        "    df_updatedColumns = df\r\n",
        "    for c in df.columns:\r\n",
        "        if c != 'rundate':\r\n",
        "            new_col_name = list_of_column_names[n]\r\n",
        "            df_updatedColumns = df_updatedColumns.withColumnRenamed(c, new_col_name)\r\n",
        "            if list_of_column_dtypes[n] != 'StringType()':\r\n",
        "#               df_updatedColumns = df_updatedColumns.withColumn(new_col_name, df_updatedColumns[new_col_name].cast(list_of_column_dtypes[n]))\r\n",
        "                if list_of_column_dtypes[n] == 'IntegerType()':\r\n",
        "                    df_updatedColumns = df_updatedColumns.withColumn(new_col_name, df_updatedColumns[new_col_name].cast(IntegerType()))\r\n",
        "                elif list_of_column_dtypes[n] == 'TimestampType()':\r\n",
        "                    df_updatedColumns = df_updatedColumns.withColumn(new_col_name, df_updatedColumns[new_col_name].cast(TimestampType()))\r\n",
        "                elif list_of_column_dtypes == 'ShortType()':\r\n",
        "                    df_updatedColumns = df_updatedColumns.withColumn(new_col_name, df_updatedColumns[new_col_name].cast(ShortType()))\r\n",
        "                elif list_of_column_dtypes[n] == 'LongType()':\r\n",
        "                    df_updatedColumns = df_updatedColumns.withColumn(new_col_name, df_updatedColumns[new_col_name].cast(LongType()))\r\n",
        "                elif list_of_column_dtypes[n] == 'DoubleType()':\r\n",
        "                    df_updatedColumns = df_updatedColumns.withColumn(new_col_name, df_updatedColumns[new_col_name].cast(DoubleType()))\r\n",
        "                elif list_of_column_dtypes[n] == 'DateType()':\r\n",
        "                    df_updatedColumns = df_updatedColumns.withColumn(new_col_name, df_updatedColumns[new_col_name].cast(DateType()))\r\n",
        "                elif list_of_column_dtypes[n] == 'BooleanType()':\r\n",
        "                    df_updatedColumns = df_updatedColumns.withColumn(new_col_name, df_updatedColumns[new_col_name].cast(BooleanType()))\r\n",
        "        else:\r\n",
        "            df_updatedColumns = df_updatedColumns\r\n",
        "        n = n + 1\r\n",
        "    return df_updatedColumns"
      ],
      "outputs": [
        {
          "output_type": "display_data",
          "data": {
            "application/vnd.livy.statement-meta+json": {
              "spark_pool": "spark3p2med",
              "session_id": "7",
              "statement_id": 4,
              "state": "finished",
              "livy_statement_state": "available",
              "queued_time": "2022-12-27T19:47:10.9550163Z",
              "session_start_time": null,
              "execution_start_time": "2022-12-27T19:48:05.7010218Z",
              "execution_finish_time": "2022-12-27T19:48:05.8574252Z",
              "spark_jobs": null
            },
            "text/plain": "StatementMeta(spark3p2med, 7, 4, Finished, Available)"
          },
          "metadata": {}
        }
      ],
      "execution_count": 6,
      "metadata": {
        "jupyter": {
          "source_hidden": false,
          "outputs_hidden": false
        },
        "nteract": {
          "transient": {
            "deleting": false
          }
        }
      }
    },
    {
      "cell_type": "code",
      "source": [
        "def correct_insights_dataset(tables_source):\r\n",
        "    items = oea.get_folders(tables_source)\r\n",
        "    for item in items: \r\n",
        "        if item == 'metadata.csv':\r\n",
        "            logger.info('ignore metadata processing, since this is not a table to be ingested')\r\n",
        "        else:\r\n",
        "            table_path = tables_source +'/'+ item\r\n",
        "            df = spark.read.format('delta').load(oea.to_url(table_path), header='false')\r\n",
        "            df_correctedSchema = correct_insights_table_schema(df, table_name=item)\r\n",
        "            df_correctedSchema.write.save(oea.to_url(table_path), format='delta', mode='overwrite', header='true', overwriteSchema='true')\r\n",
        "            logger.info('Successfully corrected the schema for table: ' + item + ' from: ' + table_path)"
      ],
      "outputs": [
        {
          "output_type": "display_data",
          "data": {
            "application/vnd.livy.statement-meta+json": {
              "spark_pool": "spark3p2med",
              "session_id": "7",
              "statement_id": 10,
              "state": "finished",
              "livy_statement_state": "available",
              "queued_time": "2022-12-27T19:54:53.088718Z",
              "session_start_time": null,
              "execution_start_time": "2022-12-27T19:54:53.2171193Z",
              "execution_finish_time": "2022-12-27T19:54:53.3756549Z",
              "spark_jobs": null
            },
            "text/plain": "StatementMeta(spark3p2med, 7, 10, Finished, Available)"
          },
          "metadata": {}
        }
      ],
      "execution_count": 12,
      "metadata": {
        "jupyter": {
          "source_hidden": false,
          "outputs_hidden": false
        },
        "nteract": {
          "transient": {
            "deleting": false
          }
        }
      }
    },
    {
      "cell_type": "code",
      "source": [
        "metadata = oea.get_metadata_from_url('https://raw.githubusercontent.com/microsoft/OpenEduAnalytics/main/modules/module_catalog/Microsoft_Education_Insights/test_data/metadata.csv')\r\n",
        "#metadata = oea.get_metadata_from_url('https://raw.githubusercontent.com/cstohlmann/oea-insights-module/main/test_data/metadata.csv')\r\n",
        "correct_insights_dataset('stage2/Ingested/M365/v1.14')"
      ],
      "outputs": [
        {
          "output_type": "display_data",
          "data": {
            "application/vnd.livy.statement-meta+json": {
              "spark_pool": "spark3p2med",
              "session_id": "7",
              "statement_id": 11,
              "state": "finished",
              "livy_statement_state": "available",
              "queued_time": "2022-12-27T19:55:05.0769796Z",
              "session_start_time": null,
              "execution_start_time": "2022-12-27T19:55:05.1794644Z",
              "execution_finish_time": "2022-12-27T19:56:46.0848609Z",
              "spark_jobs": null
            },
            "text/plain": "StatementMeta(spark3p2med, 7, 11, Finished, Available)"
          },
          "metadata": {}
        },
        {
          "output_type": "stream",
          "name": "stdout",
          "text": [
            "2022-12-27 19:55:19,844 - OEA - INFO - Successfully corrected the schema for table:AadGroupfrom:stage2/Ingested/M365/v1.14/AadGroup\n2022-12-27 19:55:24,739 - OEA - INFO - Successfully corrected the schema for table:AadUserfrom:stage2/Ingested/M365/v1.14/AadUser\n2022-12-27 19:55:28,776 - OEA - INFO - Successfully corrected the schema for table:AadUserPersonMappingfrom:stage2/Ingested/M365/v1.14/AadUserPersonMapping\n2022-12-27 19:55:32,715 - OEA - INFO - Successfully corrected the schema for table:Coursefrom:stage2/Ingested/M365/v1.14/Course\n2022-12-27 19:55:38,783 - OEA - INFO - Successfully corrected the schema for table:CourseGradeLevelfrom:stage2/Ingested/M365/v1.14/CourseGradeLevel\n2022-12-27 19:55:42,015 - OEA - INFO - Successfully corrected the schema for table:CourseSubjectfrom:stage2/Ingested/M365/v1.14/CourseSubject\n2022-12-27 19:55:45,883 - OEA - INFO - Successfully corrected the schema for table:Enrollmentfrom:stage2/Ingested/M365/v1.14/Enrollment\n2022-12-27 19:55:50,433 - OEA - INFO - Successfully corrected the schema for table:Organizationfrom:stage2/Ingested/M365/v1.14/Organization\n2022-12-27 19:55:53,667 - OEA - INFO - Successfully corrected the schema for table:Personfrom:stage2/Ingested/M365/v1.14/Person\n2022-12-27 19:55:57,308 - OEA - INFO - Successfully corrected the schema for table:PersonDemographicfrom:stage2/Ingested/M365/v1.14/PersonDemographic\n2022-12-27 19:56:00,832 - OEA - INFO - Successfully corrected the schema for table:PersonDemographicEthnicityfrom:stage2/Ingested/M365/v1.14/PersonDemographicEthnicity\n2022-12-27 19:56:04,054 - OEA - INFO - Successfully corrected the schema for table:PersonDemographicPersonFlagfrom:stage2/Ingested/M365/v1.14/PersonDemographicPersonFlag\n2022-12-27 19:56:07,326 - OEA - INFO - Successfully corrected the schema for table:PersonDemographicRacefrom:stage2/Ingested/M365/v1.14/PersonDemographicRace\n2022-12-27 19:56:10,239 - OEA - INFO - Successfully corrected the schema for table:PersonEmailAddressfrom:stage2/Ingested/M365/v1.14/PersonEmailAddress\n2022-12-27 19:56:13,152 - OEA - INFO - Successfully corrected the schema for table:PersonIdentifierfrom:stage2/Ingested/M365/v1.14/PersonIdentifier\n2022-12-27 19:56:16,470 - OEA - INFO - Successfully corrected the schema for table:PersonOrganizationRolefrom:stage2/Ingested/M365/v1.14/PersonOrganizationRole\n2022-12-27 19:56:19,181 - OEA - INFO - Successfully corrected the schema for table:PersonPhoneNumberfrom:stage2/Ingested/M365/v1.14/PersonPhoneNumber\n2022-12-27 19:56:22,955 - OEA - INFO - Successfully corrected the schema for table:RefDefinitionfrom:stage2/Ingested/M365/v1.14/RefDefinition\n2022-12-27 19:56:25,808 - OEA - INFO - Successfully corrected the schema for table:Sectionfrom:stage2/Ingested/M365/v1.14/Section\n2022-12-27 19:56:28,407 - OEA - INFO - Successfully corrected the schema for table:SectionGradeLevelfrom:stage2/Ingested/M365/v1.14/SectionGradeLevel\n2022-12-27 19:56:30,911 - OEA - INFO - Successfully corrected the schema for table:SectionSessionfrom:stage2/Ingested/M365/v1.14/SectionSession\n2022-12-27 19:56:33,855 - OEA - INFO - Successfully corrected the schema for table:SectionSubjectfrom:stage2/Ingested/M365/v1.14/SectionSubject\n2022-12-27 19:56:37,227 - OEA - INFO - Successfully corrected the schema for table:Sessionfrom:stage2/Ingested/M365/v1.14/Session\n2022-12-27 19:56:40,694 - OEA - INFO - Successfully corrected the schema for table:SourceSystemfrom:stage2/Ingested/M365/v1.14/SourceSystem\n2022-12-27 19:56:45,597 - OEA - INFO - Successfully corrected the schema for table:activityfrom:stage2/Ingested/M365/v1.14/activity\n"
          ]
        }
      ],
      "execution_count": 13,
      "metadata": {
        "jupyter": {
          "source_hidden": false,
          "outputs_hidden": false
        },
        "nteract": {
          "transient": {
            "deleting": false
          }
        }
      }
    },
    {
      "cell_type": "code",
      "source": [
        "df = spark.read.format('delta').load(oea.to_url('stage2/Ingested/M365/v1.14/activity'), header='true')\r\n",
        "display(df.limit(10))"
      ],
      "outputs": [
        {
          "output_type": "display_data",
          "data": {
            "application/vnd.livy.statement-meta+json": {
              "spark_pool": "spark3p2med",
              "session_id": "7",
              "statement_id": 12,
              "state": "finished",
              "livy_statement_state": "available",
              "queued_time": "2022-12-27T19:56:53.0654076Z",
              "session_start_time": null,
              "execution_start_time": "2022-12-27T19:56:53.1748098Z",
              "execution_finish_time": "2022-12-27T19:56:54.2705255Z",
              "spark_jobs": null
            },
            "text/plain": "StatementMeta(spark3p2med, 7, 12, Finished, Available)"
          },
          "metadata": {}
        },
        {
          "output_type": "display_data",
          "data": {
            "application/vnd.synapse.widget-view+json": {
              "widget_id": "5276092e-4d3f-471f-996b-06d832959e9e",
              "widget_type": "Synapse.DataFrame"
            },
            "text/plain": "SynapseWidget(Synapse.DataFrame, 5276092e-4d3f-471f-996b-06d832959e9e)"
          },
          "metadata": {}
        }
      ],
      "execution_count": 14,
      "metadata": {
        "jupyter": {
          "source_hidden": false,
          "outputs_hidden": false
        },
        "nteract": {
          "transient": {
            "deleting": false
          }
        },
        "collapsed": false
      }
    },
    {
      "cell_type": "code",
      "source": [
        "df.printSchema()"
      ],
      "outputs": [
        {
          "output_type": "display_data",
          "data": {
            "application/vnd.livy.statement-meta+json": {
              "spark_pool": "spark3p2med",
              "session_id": "7",
              "statement_id": 13,
              "state": "finished",
              "livy_statement_state": "available",
              "queued_time": "2022-12-27T19:57:09.2318198Z",
              "session_start_time": null,
              "execution_start_time": "2022-12-27T19:57:09.3432811Z",
              "execution_finish_time": "2022-12-27T19:57:09.5059508Z",
              "spark_jobs": null
            },
            "text/plain": "StatementMeta(spark3p2med, 7, 13, Finished, Available)"
          },
          "metadata": {}
        },
        {
          "output_type": "stream",
          "name": "stdout",
          "text": [
            "root\n |-- SignalType: string (nullable = true)\n |-- StartTime: timestamp (nullable = true)\n |-- UserAgent: string (nullable = true)\n |-- SignalId: string (nullable = true)\n |-- SisClassId: string (nullable = true)\n |-- ClassId: string (nullable = true)\n |-- ChannelId: string (nullable = true)\n |-- AppName: string (nullable = true)\n |-- ActorId: string (nullable = true)\n |-- ActorRole: string (nullable = true)\n |-- SchemaVersion: string (nullable = true)\n |-- AssignmentId: string (nullable = true)\n |-- SubmissionId: string (nullable = true)\n |-- SubmissionCreatedTime: timestamp (nullable = true)\n |-- Action: string (nullable = true)\n |-- DueDate: timestamp (nullable = true)\n |-- ClassCreationDate: timestamp (nullable = true)\n |-- Grade: double (nullable = true)\n |-- SourceFileExtension: string (nullable = true)\n |-- MeetingDuration: string (nullable = true)\n |-- MeetingSessionId: string (nullable = true)\n |-- MeetingType: string (nullable = true)\n |-- ReadingSubmissionWordsPerMinute: integer (nullable = true)\n |-- ReadingSubmissionAccuracyScore: string (nullable = true)\n |-- ReadingSubmissionMispronunciationCount: integer (nullable = true)\n |-- ReadingSubmissionRepetitionsCount: integer (nullable = true)\n |-- ReadingSubmissionInsertionsCount: integer (nullable = true)\n |-- ReadingSubmissionObmissionCount: integer (nullable = true)\n |-- ReadingSubmissionAttemptNumber: integer (nullable = true)\n |-- ReadingAssignmentWordCount: integer (nullable = true)\n |-- ReadingAssignmentFleschKincaidGradeLevel: string (nullable = true)\n |-- ReadingAssignmentLanguage: string (nullable = true)\n |-- rundate: timestamp (nullable = true)\n\n"
          ]
        }
      ],
      "execution_count": 15,
      "metadata": {
        "jupyter": {
          "source_hidden": false,
          "outputs_hidden": false
        },
        "nteract": {
          "transient": {
            "deleting": false
          }
        }
      }
    }
  ],
  "metadata": {
    "kernelspec": {
      "name": "synapse_pyspark",
      "language": "Python",
      "display_name": "Synapse PySpark"
    },
    "language_info": {
      "name": "python"
    },
    "kernel_info": {
      "name": "synapse_pyspark"
    },
    "description": "Corrects the schema from Insights data originally landed - correcting column names and data types from the metadata.",
    "save_output": true,
    "synapse_widget": {
      "version": "0.1",
      "state": {
        "5276092e-4d3f-471f-996b-06d832959e9e": {
          "type": "Synapse.DataFrame",
          "sync_state": {
            "table": {
              "rows": [
                {
                  "0": "SubmissionEvent",
                  "1": "2022-01-09 05:29:00",
                  "3": "2d601751-cfa1-4389-9ece-9c2764dbc343",
                  "5": "567C0947-3091-44E8-8A37-9D445386C010",
                  "7": "Assignments",
                  "8": "515bc94db4b544d2a4ed3f427ead4734",
                  "9": "Student",
                  "10": "1.6",
                  "11": "0eb6d5ea-bd94-4226-b007-b0d1d19d2177",
                  "14": "Visited",
                  "15": "2022-01-17 00:00:00",
                  "16": "2022-01-03 00:00:00",
                  "32": "2022-12-21 21:15:46"
                },
                {
                  "0": "SubmissionEvent",
                  "1": "2022-01-09 02:01:00",
                  "3": "6f59c88c-c506-4e59-ad26-1e5130f909f2",
                  "5": "7A6C5A0D-6CFA-4665-9AA8-EE12EDD4A6BF",
                  "7": "Assignments",
                  "8": "6217598825654ce58248d911f40737f0",
                  "9": "Student",
                  "10": "1.6",
                  "11": "bf8b985a-973a-4c2e-bc90-9cace8a44b4d",
                  "14": "Visited",
                  "15": "2022-01-21 00:00:00",
                  "16": "2022-01-03 00:00:00",
                  "32": "2022-12-21 21:15:46"
                },
                {
                  "0": "SubmissionEvent",
                  "1": "2022-01-10 03:35:00",
                  "3": "cecc972c-c33e-4bc3-aef1-3dba3b8a6ab6",
                  "5": "6EC33984-CFDA-410E-B99C-6D372A2FE245",
                  "7": "Assignments",
                  "8": "276805e8a904452dafb4371ee4be3a1c",
                  "9": "Student",
                  "10": "1.6",
                  "11": "974c1f1c-9735-46d7-bbf7-9268c7467ba8",
                  "14": "Visited",
                  "15": "2022-01-21 00:00:00",
                  "16": "2022-01-03 00:00:00",
                  "32": "2022-12-21 21:15:46"
                },
                {
                  "0": "FileModified",
                  "1": "2022-01-22 15:24:00",
                  "3": "c0f603ae-3e8b-4104-8a66-d8fe1707da07",
                  "5": "AC08D2CB-AAED-42E6-8CC2-4894F57E53B5",
                  "7": "SharePoint Online",
                  "8": "69a4db91c68c4319ae91e8dcc4a9c619",
                  "9": "Student",
                  "10": "1.6",
                  "16": "2022-01-03 00:00:00",
                  "18": "xlsx",
                  "32": "2022-12-21 21:15:46"
                },
                {
                  "0": "SubmissionEvent",
                  "1": "2022-01-19 20:00:00",
                  "3": "ac3c5bf4-23bf-405b-a67b-b058cb6b9c37",
                  "5": "CE746EFD-3EF6-4730-82B3-0306AC573E18",
                  "7": "Assignments",
                  "8": "35513d88182044b5ab21765c8378cdb9",
                  "9": "Student",
                  "10": "1.6",
                  "11": "86dd415d-fefa-4e54-9491-9ac707703999",
                  "12": "df15891a-d16e-4524-beff-ac1fb0e12983",
                  "13": "2022-01-19 20:00:00",
                  "14": "Submitted",
                  "15": "2022-01-24 00:00:00",
                  "16": "2022-01-03 00:00:00",
                  "32": "2022-12-21 21:15:46"
                },
                {
                  "0": "SubmissionEvent",
                  "1": "2022-01-13 15:19:00",
                  "3": "24e73882-9dea-4297-88dc-b4ddbc0b76d4",
                  "5": "F15B308D-22A5-49CC-A766-D129A6E71B5E",
                  "7": "Assignments",
                  "8": "73091c7a2bbe4535bdb73ecb34258850",
                  "9": "Student",
                  "10": "1.6",
                  "11": "9474d75c-f360-4b4b-8c60-454980544050",
                  "12": "63086541-8b5c-44e0-99a5-d2cebcc4320e",
                  "13": "2022-01-13 15:19:00",
                  "14": "Submitted",
                  "15": "2022-01-20 00:00:00",
                  "16": "2022-01-03 00:00:00",
                  "32": "2022-12-21 21:15:46"
                },
                {
                  "0": "SubmissionEvent",
                  "1": "2022-01-08 16:11:00",
                  "3": "d63b2a4e-4642-4b9d-99f3-8dde7d57e805",
                  "5": "0D8B8AD9-2490-4060-A85A-EE66B5667D54",
                  "7": "Assignments",
                  "8": "3bcf6f2c808141f8a49fa257c21b20f5",
                  "9": "Student",
                  "10": "1.6",
                  "11": "82c6e055-bee2-4ec5-8de5-fbeba1eb0624",
                  "14": "Visited",
                  "15": "2022-01-21 00:00:00",
                  "16": "2022-01-03 00:00:00",
                  "32": "2022-12-21 21:15:46"
                },
                {
                  "0": "SubmissionEvent",
                  "1": "2022-01-13 12:59:00",
                  "3": "d3d327ae-eda1-42d8-a749-c485b9c873ea",
                  "5": "DAC494DC-A53A-4059-87D9-E8D6D1A0763A",
                  "7": "Assignments",
                  "8": "ddfcd08049324f6da663b5530dbfa0e2",
                  "9": "Student",
                  "10": "1.6",
                  "11": "e500b379-02a9-437f-971a-7e70bb7d83e5",
                  "14": "Returned",
                  "15": "2022-01-15 00:00:00",
                  "16": "2022-01-03 00:00:00",
                  "17": "58.0",
                  "32": "2022-12-21 21:15:46"
                },
                {
                  "0": "CallRecordSummarized",
                  "1": "2022-01-24 13:45:00",
                  "3": "05d39aeb-b1f7-4cdc-925f-03b8c146976c",
                  "5": "C285F351-6640-4E34-BC13-A3C6352AAC8B",
                  "7": "TeamsMeeting",
                  "8": "314f44bcfaa344ba8a1c738bc6c9ae5f",
                  "9": "Student",
                  "10": "1.6",
                  "16": "2022-01-03 00:00:00",
                  "19": "0:26:00",
                  "20": "ae6ef58a-6ae4-4bb8-8af3-dea42aebc454",
                  "32": "2022-12-21 21:15:46"
                },
                {
                  "0": "SubmissionEvent",
                  "1": "2022-01-12 22:08:00",
                  "3": "637274f5-381e-4c9b-b069-ca3e530dd3ed",
                  "5": "E69107B5-8C34-402C-B0A1-408D4A929CB7",
                  "7": "Assignments",
                  "8": "b252b09a802f405896d828ec9b030826",
                  "9": "Student",
                  "10": "1.6",
                  "11": "9166fb0a-686c-42f3-bd32-7c952cd77b68",
                  "14": "Visited",
                  "15": "2022-01-21 00:00:00",
                  "16": "2022-01-03 00:00:00",
                  "32": "2022-12-21 21:15:46"
                }
              ],
              "schema": [
                {
                  "key": "0",
                  "name": "SignalType",
                  "type": "string"
                },
                {
                  "key": "1",
                  "name": "StartTime",
                  "type": "timestamp"
                },
                {
                  "key": "2",
                  "name": "UserAgent",
                  "type": "string"
                },
                {
                  "key": "3",
                  "name": "SignalId",
                  "type": "string"
                },
                {
                  "key": "4",
                  "name": "SisClassId",
                  "type": "string"
                },
                {
                  "key": "5",
                  "name": "ClassId",
                  "type": "string"
                },
                {
                  "key": "6",
                  "name": "ChannelId",
                  "type": "string"
                },
                {
                  "key": "7",
                  "name": "AppName",
                  "type": "string"
                },
                {
                  "key": "8",
                  "name": "ActorId",
                  "type": "string"
                },
                {
                  "key": "9",
                  "name": "ActorRole",
                  "type": "string"
                },
                {
                  "key": "10",
                  "name": "SchemaVersion",
                  "type": "string"
                },
                {
                  "key": "11",
                  "name": "AssignmentId",
                  "type": "string"
                },
                {
                  "key": "12",
                  "name": "SubmissionId",
                  "type": "string"
                },
                {
                  "key": "13",
                  "name": "SubmissionCreatedTime",
                  "type": "timestamp"
                },
                {
                  "key": "14",
                  "name": "Action",
                  "type": "string"
                },
                {
                  "key": "15",
                  "name": "DueDate",
                  "type": "timestamp"
                },
                {
                  "key": "16",
                  "name": "ClassCreationDate",
                  "type": "timestamp"
                },
                {
                  "key": "17",
                  "name": "Grade",
                  "type": "double"
                },
                {
                  "key": "18",
                  "name": "SourceFileExtension",
                  "type": "string"
                },
                {
                  "key": "19",
                  "name": "MeetingDuration",
                  "type": "string"
                },
                {
                  "key": "20",
                  "name": "MeetingSessionId",
                  "type": "string"
                },
                {
                  "key": "21",
                  "name": "MeetingType",
                  "type": "string"
                },
                {
                  "key": "22",
                  "name": "ReadingSubmissionWordsPerMinute",
                  "type": "int"
                },
                {
                  "key": "23",
                  "name": "ReadingSubmissionAccuracyScore",
                  "type": "string"
                },
                {
                  "key": "24",
                  "name": "ReadingSubmissionMispronunciationCount",
                  "type": "int"
                },
                {
                  "key": "25",
                  "name": "ReadingSubmissionRepetitionsCount",
                  "type": "int"
                },
                {
                  "key": "26",
                  "name": "ReadingSubmissionInsertionsCount",
                  "type": "int"
                },
                {
                  "key": "27",
                  "name": "ReadingSubmissionObmissionCount",
                  "type": "int"
                },
                {
                  "key": "28",
                  "name": "ReadingSubmissionAttemptNumber",
                  "type": "int"
                },
                {
                  "key": "29",
                  "name": "ReadingAssignmentWordCount",
                  "type": "int"
                },
                {
                  "key": "30",
                  "name": "ReadingAssignmentFleschKincaidGradeLevel",
                  "type": "string"
                },
                {
                  "key": "31",
                  "name": "ReadingAssignmentLanguage",
                  "type": "string"
                },
                {
                  "key": "32",
                  "name": "rundate",
                  "type": "timestamp"
                }
              ],
              "truncated": false
            },
            "isSummary": false,
            "language": "scala"
          },
          "persist_state": {
            "view": {
              "type": "details",
              "tableOptions": {},
              "chartOptions": {
                "chartType": "bar",
                "aggregationType": "sum",
                "categoryFieldKeys": [
                  "0"
                ],
                "seriesFieldKeys": [
                  "17"
                ],
                "isStacked": false
              }
            }
          }
        }
      }
    }
  },
  "nbformat": 4,
  "nbformat_minor": 2
}